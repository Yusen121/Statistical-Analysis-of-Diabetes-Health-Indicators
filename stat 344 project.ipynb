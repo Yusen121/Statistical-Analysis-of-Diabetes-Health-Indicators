{
 "cells": [
  {
   "cell_type": "code",
   "execution_count": 3,
   "id": "54acf443-05af-4de9-ad66-81a0f59ca031",
   "metadata": {
    "tags": []
   },
   "outputs": [
    {
     "data": {
      "text/plain": [
       "0.32186716128082804"
      ]
     },
     "execution_count": 3,
     "metadata": {},
     "output_type": "execute_result"
    }
   ],
   "source": [
    "from scipy.stats import norm\n",
    "import numpy as np\n",
    "import pandas as pd\n",
    "\n",
    "# Load the dataset\n",
    "file_path = 'diabetes_012_health_indicators_BRFSS2015.csv'\n",
    "diabetes_data = pd.read_csv(file_path)\n",
    "\n",
    "# Define the sample size\n",
    "sample_size = 50\n",
    "\n",
    "# Perform a simple random sample\n",
    "srs = diabetes_data.sample(n=sample_size, random_state=1)\n",
    "\n",
    "# Calculate the sample mean and standard error for BMI (continuous variable)\n",
    "sample_mean_bmi = srs['BMI'].mean()\n",
    "std_dev_bmi = srs['BMI'].std()\n",
    "se_bmi = std_dev_bmi / np.sqrt(sample_size)\n",
    "# Finite Population Correction (FPC)\n",
    "fpc_bmi = np.sqrt((len(diabetes_data) - sample_size) / (len(diabetes_data) - 1))\n",
    "\n",
    "# Calculate the 95% confidence interval for BMI\n",
    "z_score = norm.ppf(0.975)  # Z-score for 95% confidence\n",
    "ci_lower_bmi = sample_mean_bmi - z_score * se_bmi * fpc_bmi\n",
    "ci_upper_bmi = sample_mean_bmi + z_score * se_bmi * fpc_bmi\n",
    "\n",
    "# Calculate the sample proportion and standard error for Smoker (binary variable)\n",
    "sample_proportion_smoker = srs['Smoker'].mean()\n",
    "se_smoker = np.sqrt(sample_proportion_smoker * (1 - sample_proportion_smoker) / sample_size)\n",
    "# Finite Population Correction (FPC)\n",
    "fpc_smoker = np.sqrt((len(diabetes_data) - sample_size) / (len(diabetes_data) - 1))\n",
    "\n",
    "# Calculate the 95% confidence interval for Smoker\n",
    "ci_lower_smoker = sample_proportion_smoker - z_score * se_smoker * fpc_smoker\n",
    "ci_upper_smoker = sample_proportion_smoker + z_score * se_smoker * fpc_smoker\n",
    "\n",
    "#The Python code implemented for this analysis facilitated the random sampling, the calculation of the mean and standard error for BMI, and the proportion and standard error for the Smoker variable, in addition to the construction of the respective confidence intervals.\n",
    "ci_lower_smoker\n",
    "\n"
   ]
  },
  {
   "cell_type": "code",
   "execution_count": null,
   "id": "51a2f00b-84e3-48db-9773-22b610bab4d1",
   "metadata": {},
   "outputs": [],
   "source": []
  }
 ],
 "metadata": {
  "kernelspec": {
   "display_name": "Python 3 (ipykernel)",
   "language": "python",
   "name": "python3"
  },
  "language_info": {
   "codemirror_mode": {
    "name": "ipython",
    "version": 3
   },
   "file_extension": ".py",
   "mimetype": "text/x-python",
   "name": "python",
   "nbconvert_exporter": "python",
   "pygments_lexer": "ipython3",
   "version": "3.10.8"
  }
 },
 "nbformat": 4,
 "nbformat_minor": 5
}
