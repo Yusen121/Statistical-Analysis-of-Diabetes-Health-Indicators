{
 "cells": [
  {
   "cell_type": "markdown",
   "id": "3a83460b-e6fc-4293-9ae3-ba6e6c48d8f0",
   "metadata": {},
   "source": [
    "## The Population Mean for a Continuous Variable BMI\n"
   ]
  },
  {
   "cell_type": "markdown",
   "id": "acdab6ce-6313-45f9-a348-6e85a64b479b",
   "metadata": {},
   "source": [
    "### Step 1 Clean the data"
   ]
  },
  {
   "cell_type": "code",
   "execution_count": 1,
   "id": "a5629582-fb5f-4f30-94af-9750c6c807d5",
   "metadata": {
    "tags": []
   },
   "outputs": [
    {
     "name": "stderr",
     "output_type": "stream",
     "text": [
      "\n",
      "Attaching package: ‘dplyr’\n",
      "\n",
      "\n",
      "The following objects are masked from ‘package:stats’:\n",
      "\n",
      "    filter, lag\n",
      "\n",
      "\n",
      "The following objects are masked from ‘package:base’:\n",
      "\n",
      "    intersect, setdiff, setequal, union\n",
      "\n",
      "\n"
     ]
    }
   ],
   "source": [
    "library(dplyr)"
   ]
  },
  {
   "cell_type": "code",
   "execution_count": 2,
   "id": "163d2056-e217-44cb-9ec5-b6363026dafb",
   "metadata": {
    "tags": []
   },
   "outputs": [
    {
     "data": {
      "text/html": [
       "<table class=\"dataframe\">\n",
       "<caption>A data.frame: 6 × 22</caption>\n",
       "<thead>\n",
       "\t<tr><th></th><th scope=col>Diabetes_012</th><th scope=col>HighBP</th><th scope=col>HighChol</th><th scope=col>CholCheck</th><th scope=col>BMI</th><th scope=col>Smoker</th><th scope=col>Stroke</th><th scope=col>HeartDiseaseorAttack</th><th scope=col>PhysActivity</th><th scope=col>Fruits</th><th scope=col>⋯</th><th scope=col>AnyHealthcare</th><th scope=col>NoDocbcCost</th><th scope=col>GenHlth</th><th scope=col>MentHlth</th><th scope=col>PhysHlth</th><th scope=col>DiffWalk</th><th scope=col>Sex</th><th scope=col>Age</th><th scope=col>Education</th><th scope=col>Income</th></tr>\n",
       "\t<tr><th></th><th scope=col>&lt;dbl&gt;</th><th scope=col>&lt;dbl&gt;</th><th scope=col>&lt;dbl&gt;</th><th scope=col>&lt;dbl&gt;</th><th scope=col>&lt;dbl&gt;</th><th scope=col>&lt;dbl&gt;</th><th scope=col>&lt;dbl&gt;</th><th scope=col>&lt;dbl&gt;</th><th scope=col>&lt;dbl&gt;</th><th scope=col>&lt;dbl&gt;</th><th scope=col>⋯</th><th scope=col>&lt;dbl&gt;</th><th scope=col>&lt;dbl&gt;</th><th scope=col>&lt;dbl&gt;</th><th scope=col>&lt;dbl&gt;</th><th scope=col>&lt;dbl&gt;</th><th scope=col>&lt;dbl&gt;</th><th scope=col>&lt;dbl&gt;</th><th scope=col>&lt;dbl&gt;</th><th scope=col>&lt;dbl&gt;</th><th scope=col>&lt;dbl&gt;</th></tr>\n",
       "</thead>\n",
       "<tbody>\n",
       "\t<tr><th scope=row>1</th><td>0</td><td>1</td><td>1</td><td>1</td><td>40</td><td>1</td><td>0</td><td>0</td><td>0</td><td>0</td><td>⋯</td><td>1</td><td>0</td><td>5</td><td>18</td><td>15</td><td>1</td><td>0</td><td> 9</td><td>4</td><td>3</td></tr>\n",
       "\t<tr><th scope=row>2</th><td>0</td><td>0</td><td>0</td><td>0</td><td>25</td><td>1</td><td>0</td><td>0</td><td>1</td><td>0</td><td>⋯</td><td>0</td><td>1</td><td>3</td><td> 0</td><td> 0</td><td>0</td><td>0</td><td> 7</td><td>6</td><td>1</td></tr>\n",
       "\t<tr><th scope=row>3</th><td>0</td><td>1</td><td>1</td><td>1</td><td>28</td><td>0</td><td>0</td><td>0</td><td>0</td><td>1</td><td>⋯</td><td>1</td><td>1</td><td>5</td><td>30</td><td>30</td><td>1</td><td>0</td><td> 9</td><td>4</td><td>8</td></tr>\n",
       "\t<tr><th scope=row>4</th><td>0</td><td>1</td><td>0</td><td>1</td><td>27</td><td>0</td><td>0</td><td>0</td><td>1</td><td>1</td><td>⋯</td><td>1</td><td>0</td><td>2</td><td> 0</td><td> 0</td><td>0</td><td>0</td><td>11</td><td>3</td><td>6</td></tr>\n",
       "\t<tr><th scope=row>5</th><td>0</td><td>1</td><td>1</td><td>1</td><td>24</td><td>0</td><td>0</td><td>0</td><td>1</td><td>1</td><td>⋯</td><td>1</td><td>0</td><td>2</td><td> 3</td><td> 0</td><td>0</td><td>0</td><td>11</td><td>5</td><td>4</td></tr>\n",
       "\t<tr><th scope=row>6</th><td>0</td><td>1</td><td>1</td><td>1</td><td>25</td><td>1</td><td>0</td><td>0</td><td>1</td><td>1</td><td>⋯</td><td>1</td><td>0</td><td>2</td><td> 0</td><td> 2</td><td>0</td><td>1</td><td>10</td><td>6</td><td>8</td></tr>\n",
       "</tbody>\n",
       "</table>\n"
      ],
      "text/latex": [
       "A data.frame: 6 × 22\n",
       "\\begin{tabular}{r|lllllllllllllllllllll}\n",
       "  & Diabetes\\_012 & HighBP & HighChol & CholCheck & BMI & Smoker & Stroke & HeartDiseaseorAttack & PhysActivity & Fruits & ⋯ & AnyHealthcare & NoDocbcCost & GenHlth & MentHlth & PhysHlth & DiffWalk & Sex & Age & Education & Income\\\\\n",
       "  & <dbl> & <dbl> & <dbl> & <dbl> & <dbl> & <dbl> & <dbl> & <dbl> & <dbl> & <dbl> & ⋯ & <dbl> & <dbl> & <dbl> & <dbl> & <dbl> & <dbl> & <dbl> & <dbl> & <dbl> & <dbl>\\\\\n",
       "\\hline\n",
       "\t1 & 0 & 1 & 1 & 1 & 40 & 1 & 0 & 0 & 0 & 0 & ⋯ & 1 & 0 & 5 & 18 & 15 & 1 & 0 &  9 & 4 & 3\\\\\n",
       "\t2 & 0 & 0 & 0 & 0 & 25 & 1 & 0 & 0 & 1 & 0 & ⋯ & 0 & 1 & 3 &  0 &  0 & 0 & 0 &  7 & 6 & 1\\\\\n",
       "\t3 & 0 & 1 & 1 & 1 & 28 & 0 & 0 & 0 & 0 & 1 & ⋯ & 1 & 1 & 5 & 30 & 30 & 1 & 0 &  9 & 4 & 8\\\\\n",
       "\t4 & 0 & 1 & 0 & 1 & 27 & 0 & 0 & 0 & 1 & 1 & ⋯ & 1 & 0 & 2 &  0 &  0 & 0 & 0 & 11 & 3 & 6\\\\\n",
       "\t5 & 0 & 1 & 1 & 1 & 24 & 0 & 0 & 0 & 1 & 1 & ⋯ & 1 & 0 & 2 &  3 &  0 & 0 & 0 & 11 & 5 & 4\\\\\n",
       "\t6 & 0 & 1 & 1 & 1 & 25 & 1 & 0 & 0 & 1 & 1 & ⋯ & 1 & 0 & 2 &  0 &  2 & 0 & 1 & 10 & 6 & 8\\\\\n",
       "\\end{tabular}\n"
      ],
      "text/markdown": [
       "\n",
       "A data.frame: 6 × 22\n",
       "\n",
       "| <!--/--> | Diabetes_012 &lt;dbl&gt; | HighBP &lt;dbl&gt; | HighChol &lt;dbl&gt; | CholCheck &lt;dbl&gt; | BMI &lt;dbl&gt; | Smoker &lt;dbl&gt; | Stroke &lt;dbl&gt; | HeartDiseaseorAttack &lt;dbl&gt; | PhysActivity &lt;dbl&gt; | Fruits &lt;dbl&gt; | ⋯ ⋯ | AnyHealthcare &lt;dbl&gt; | NoDocbcCost &lt;dbl&gt; | GenHlth &lt;dbl&gt; | MentHlth &lt;dbl&gt; | PhysHlth &lt;dbl&gt; | DiffWalk &lt;dbl&gt; | Sex &lt;dbl&gt; | Age &lt;dbl&gt; | Education &lt;dbl&gt; | Income &lt;dbl&gt; |\n",
       "|---|---|---|---|---|---|---|---|---|---|---|---|---|---|---|---|---|---|---|---|---|---|\n",
       "| 1 | 0 | 1 | 1 | 1 | 40 | 1 | 0 | 0 | 0 | 0 | ⋯ | 1 | 0 | 5 | 18 | 15 | 1 | 0 |  9 | 4 | 3 |\n",
       "| 2 | 0 | 0 | 0 | 0 | 25 | 1 | 0 | 0 | 1 | 0 | ⋯ | 0 | 1 | 3 |  0 |  0 | 0 | 0 |  7 | 6 | 1 |\n",
       "| 3 | 0 | 1 | 1 | 1 | 28 | 0 | 0 | 0 | 0 | 1 | ⋯ | 1 | 1 | 5 | 30 | 30 | 1 | 0 |  9 | 4 | 8 |\n",
       "| 4 | 0 | 1 | 0 | 1 | 27 | 0 | 0 | 0 | 1 | 1 | ⋯ | 1 | 0 | 2 |  0 |  0 | 0 | 0 | 11 | 3 | 6 |\n",
       "| 5 | 0 | 1 | 1 | 1 | 24 | 0 | 0 | 0 | 1 | 1 | ⋯ | 1 | 0 | 2 |  3 |  0 | 0 | 0 | 11 | 5 | 4 |\n",
       "| 6 | 0 | 1 | 1 | 1 | 25 | 1 | 0 | 0 | 1 | 1 | ⋯ | 1 | 0 | 2 |  0 |  2 | 0 | 1 | 10 | 6 | 8 |\n",
       "\n"
      ],
      "text/plain": [
       "  Diabetes_012 HighBP HighChol CholCheck BMI Smoker Stroke HeartDiseaseorAttack\n",
       "1 0            1      1        1         40  1      0      0                   \n",
       "2 0            0      0        0         25  1      0      0                   \n",
       "3 0            1      1        1         28  0      0      0                   \n",
       "4 0            1      0        1         27  0      0      0                   \n",
       "5 0            1      1        1         24  0      0      0                   \n",
       "6 0            1      1        1         25  1      0      0                   \n",
       "  PhysActivity Fruits ⋯ AnyHealthcare NoDocbcCost GenHlth MentHlth PhysHlth\n",
       "1 0            0      ⋯ 1             0           5       18       15      \n",
       "2 1            0      ⋯ 0             1           3        0        0      \n",
       "3 0            1      ⋯ 1             1           5       30       30      \n",
       "4 1            1      ⋯ 1             0           2        0        0      \n",
       "5 1            1      ⋯ 1             0           2        3        0      \n",
       "6 1            1      ⋯ 1             0           2        0        2      \n",
       "  DiffWalk Sex Age Education Income\n",
       "1 1        0    9  4         3     \n",
       "2 0        0    7  6         1     \n",
       "3 1        0    9  4         8     \n",
       "4 0        0   11  3         6     \n",
       "5 0        0   11  5         4     \n",
       "6 0        1   10  6         8     "
      ]
     },
     "metadata": {},
     "output_type": "display_data"
    }
   ],
   "source": [
    "diabetes <- read.csv(\"diabetes_012_health_indicators_BRFSS2015.csv\", header = TRUE)\n",
    "attach(diabetes) \n",
    "head(diabetes)"
   ]
  },
  {
   "cell_type": "code",
   "execution_count": 3,
   "id": "69fdfb2c-2b2b-4bf8-b4c3-d5cfaa1f870d",
   "metadata": {},
   "outputs": [
    {
     "data": {
      "text/html": [
       "<table class=\"dataframe\">\n",
       "<caption>A data.frame: 6 × 9</caption>\n",
       "<thead>\n",
       "\t<tr><th></th><th scope=col>Diabetes_012</th><th scope=col>BMI</th><th scope=col>Smoker</th><th scope=col>HighBP</th><th scope=col>HighChol</th><th scope=col>CholCheck</th><th scope=col>Stroke</th><th scope=col>HeartDiseaseorAttack</th><th scope=col>HvyAlcoholConsump</th></tr>\n",
       "\t<tr><th></th><th scope=col>&lt;dbl&gt;</th><th scope=col>&lt;dbl&gt;</th><th scope=col>&lt;dbl&gt;</th><th scope=col>&lt;dbl&gt;</th><th scope=col>&lt;dbl&gt;</th><th scope=col>&lt;dbl&gt;</th><th scope=col>&lt;dbl&gt;</th><th scope=col>&lt;dbl&gt;</th><th scope=col>&lt;dbl&gt;</th></tr>\n",
       "</thead>\n",
       "<tbody>\n",
       "\t<tr><th scope=row>1</th><td>2</td><td>30</td><td>1</td><td>1</td><td>1</td><td>1</td><td>0</td><td>1</td><td>0</td></tr>\n",
       "\t<tr><th scope=row>2</th><td>2</td><td>25</td><td>1</td><td>0</td><td>0</td><td>1</td><td>0</td><td>0</td><td>0</td></tr>\n",
       "\t<tr><th scope=row>3</th><td>2</td><td>28</td><td>0</td><td>1</td><td>1</td><td>1</td><td>0</td><td>0</td><td>0</td></tr>\n",
       "\t<tr><th scope=row>4</th><td>2</td><td>23</td><td>1</td><td>0</td><td>0</td><td>1</td><td>0</td><td>0</td><td>0</td></tr>\n",
       "\t<tr><th scope=row>5</th><td>2</td><td>27</td><td>0</td><td>1</td><td>0</td><td>1</td><td>0</td><td>0</td><td>0</td></tr>\n",
       "\t<tr><th scope=row>6</th><td>2</td><td>37</td><td>1</td><td>1</td><td>1</td><td>1</td><td>1</td><td>1</td><td>0</td></tr>\n",
       "</tbody>\n",
       "</table>\n"
      ],
      "text/latex": [
       "A data.frame: 6 × 9\n",
       "\\begin{tabular}{r|lllllllll}\n",
       "  & Diabetes\\_012 & BMI & Smoker & HighBP & HighChol & CholCheck & Stroke & HeartDiseaseorAttack & HvyAlcoholConsump\\\\\n",
       "  & <dbl> & <dbl> & <dbl> & <dbl> & <dbl> & <dbl> & <dbl> & <dbl> & <dbl>\\\\\n",
       "\\hline\n",
       "\t1 & 2 & 30 & 1 & 1 & 1 & 1 & 0 & 1 & 0\\\\\n",
       "\t2 & 2 & 25 & 1 & 0 & 0 & 1 & 0 & 0 & 0\\\\\n",
       "\t3 & 2 & 28 & 0 & 1 & 1 & 1 & 0 & 0 & 0\\\\\n",
       "\t4 & 2 & 23 & 1 & 0 & 0 & 1 & 0 & 0 & 0\\\\\n",
       "\t5 & 2 & 27 & 0 & 1 & 0 & 1 & 0 & 0 & 0\\\\\n",
       "\t6 & 2 & 37 & 1 & 1 & 1 & 1 & 1 & 1 & 0\\\\\n",
       "\\end{tabular}\n"
      ],
      "text/markdown": [
       "\n",
       "A data.frame: 6 × 9\n",
       "\n",
       "| <!--/--> | Diabetes_012 &lt;dbl&gt; | BMI &lt;dbl&gt; | Smoker &lt;dbl&gt; | HighBP &lt;dbl&gt; | HighChol &lt;dbl&gt; | CholCheck &lt;dbl&gt; | Stroke &lt;dbl&gt; | HeartDiseaseorAttack &lt;dbl&gt; | HvyAlcoholConsump &lt;dbl&gt; |\n",
       "|---|---|---|---|---|---|---|---|---|---|\n",
       "| 1 | 2 | 30 | 1 | 1 | 1 | 1 | 0 | 1 | 0 |\n",
       "| 2 | 2 | 25 | 1 | 0 | 0 | 1 | 0 | 0 | 0 |\n",
       "| 3 | 2 | 28 | 0 | 1 | 1 | 1 | 0 | 0 | 0 |\n",
       "| 4 | 2 | 23 | 1 | 0 | 0 | 1 | 0 | 0 | 0 |\n",
       "| 5 | 2 | 27 | 0 | 1 | 0 | 1 | 0 | 0 | 0 |\n",
       "| 6 | 2 | 37 | 1 | 1 | 1 | 1 | 1 | 1 | 0 |\n",
       "\n"
      ],
      "text/plain": [
       "  Diabetes_012 BMI Smoker HighBP HighChol CholCheck Stroke HeartDiseaseorAttack\n",
       "1 2            30  1      1      1        1         0      1                   \n",
       "2 2            25  1      0      0        1         0      0                   \n",
       "3 2            28  0      1      1        1         0      0                   \n",
       "4 2            23  1      0      0        1         0      0                   \n",
       "5 2            27  0      1      0        1         0      0                   \n",
       "6 2            37  1      1      1        1         1      1                   \n",
       "  HvyAlcoholConsump\n",
       "1 0                \n",
       "2 0                \n",
       "3 0                \n",
       "4 0                \n",
       "5 0                \n",
       "6 0                "
      ]
     },
     "metadata": {},
     "output_type": "display_data"
    }
   ],
   "source": [
    "diabetes <- diabetes %>%\n",
    "   filter(Diabetes_012  == 2) %>%\n",
    "   select(Diabetes_012, BMI, Smoker, HighBP, HighChol, CholCheck,Stroke, HeartDiseaseorAttack,HvyAlcoholConsump)\n",
    "head(diabetes)"
   ]
  },
  {
   "cell_type": "code",
   "execution_count": 4,
   "id": "09e1cf1e-4c0c-4668-8c09-bafde204e268",
   "metadata": {
    "tags": []
   },
   "outputs": [
    {
     "data": {
      "text/html": [
       "<table class=\"dataframe\">\n",
       "<caption>A data.frame: 6 × 7</caption>\n",
       "<thead>\n",
       "\t<tr><th></th><th scope=col>BMI</th><th scope=col>HighBP</th><th scope=col>HighChol</th><th scope=col>CholCheck</th><th scope=col>Stroke</th><th scope=col>HeartDiseaseorAttack</th><th scope=col>HvyAlcoholConsump</th></tr>\n",
       "\t<tr><th></th><th scope=col>&lt;dbl&gt;</th><th scope=col>&lt;dbl&gt;</th><th scope=col>&lt;dbl&gt;</th><th scope=col>&lt;dbl&gt;</th><th scope=col>&lt;dbl&gt;</th><th scope=col>&lt;dbl&gt;</th><th scope=col>&lt;dbl&gt;</th></tr>\n",
       "</thead>\n",
       "<tbody>\n",
       "\t<tr><th scope=row>1</th><td>30</td><td>1</td><td>1</td><td>1</td><td>0</td><td>1</td><td>0</td></tr>\n",
       "\t<tr><th scope=row>2</th><td>25</td><td>0</td><td>0</td><td>1</td><td>0</td><td>0</td><td>0</td></tr>\n",
       "\t<tr><th scope=row>3</th><td>28</td><td>1</td><td>1</td><td>1</td><td>0</td><td>0</td><td>0</td></tr>\n",
       "\t<tr><th scope=row>4</th><td>23</td><td>0</td><td>0</td><td>1</td><td>0</td><td>0</td><td>0</td></tr>\n",
       "\t<tr><th scope=row>5</th><td>27</td><td>1</td><td>0</td><td>1</td><td>0</td><td>0</td><td>0</td></tr>\n",
       "\t<tr><th scope=row>6</th><td>37</td><td>1</td><td>1</td><td>1</td><td>1</td><td>1</td><td>0</td></tr>\n",
       "</tbody>\n",
       "</table>\n"
      ],
      "text/latex": [
       "A data.frame: 6 × 7\n",
       "\\begin{tabular}{r|lllllll}\n",
       "  & BMI & HighBP & HighChol & CholCheck & Stroke & HeartDiseaseorAttack & HvyAlcoholConsump\\\\\n",
       "  & <dbl> & <dbl> & <dbl> & <dbl> & <dbl> & <dbl> & <dbl>\\\\\n",
       "\\hline\n",
       "\t1 & 30 & 1 & 1 & 1 & 0 & 1 & 0\\\\\n",
       "\t2 & 25 & 0 & 0 & 1 & 0 & 0 & 0\\\\\n",
       "\t3 & 28 & 1 & 1 & 1 & 0 & 0 & 0\\\\\n",
       "\t4 & 23 & 0 & 0 & 1 & 0 & 0 & 0\\\\\n",
       "\t5 & 27 & 1 & 0 & 1 & 0 & 0 & 0\\\\\n",
       "\t6 & 37 & 1 & 1 & 1 & 1 & 1 & 0\\\\\n",
       "\\end{tabular}\n"
      ],
      "text/markdown": [
       "\n",
       "A data.frame: 6 × 7\n",
       "\n",
       "| <!--/--> | BMI &lt;dbl&gt; | HighBP &lt;dbl&gt; | HighChol &lt;dbl&gt; | CholCheck &lt;dbl&gt; | Stroke &lt;dbl&gt; | HeartDiseaseorAttack &lt;dbl&gt; | HvyAlcoholConsump &lt;dbl&gt; |\n",
       "|---|---|---|---|---|---|---|---|\n",
       "| 1 | 30 | 1 | 1 | 1 | 0 | 1 | 0 |\n",
       "| 2 | 25 | 0 | 0 | 1 | 0 | 0 | 0 |\n",
       "| 3 | 28 | 1 | 1 | 1 | 0 | 0 | 0 |\n",
       "| 4 | 23 | 0 | 0 | 1 | 0 | 0 | 0 |\n",
       "| 5 | 27 | 1 | 0 | 1 | 0 | 0 | 0 |\n",
       "| 6 | 37 | 1 | 1 | 1 | 1 | 1 | 0 |\n",
       "\n"
      ],
      "text/plain": [
       "  BMI HighBP HighChol CholCheck Stroke HeartDiseaseorAttack HvyAlcoholConsump\n",
       "1 30  1      1        1         0      1                    0                \n",
       "2 25  0      0        1         0      0                    0                \n",
       "3 28  1      1        1         0      0                    0                \n",
       "4 23  0      0        1         0      0                    0                \n",
       "5 27  1      0        1         0      0                    0                \n",
       "6 37  1      1        1         1      1                    0                "
      ]
     },
     "metadata": {},
     "output_type": "display_data"
    }
   ],
   "source": [
    "diabetes_BMI <- diabetes %>%\n",
    "   select(-Diabetes_012,-Smoker)\n",
    "head(diabetes_BMI)"
   ]
  },
  {
   "cell_type": "markdown",
   "id": "2f1c46f5-933c-4370-b4fe-549a533f229c",
   "metadata": {},
   "source": [
    "### Step 2: Calculate the between strata variation for each kind of strata"
   ]
  },
  {
   "cell_type": "code",
   "execution_count": 5,
   "id": "261284e8-ed9a-401d-bda3-9e98c3be2b40",
   "metadata": {
    "tags": []
   },
   "outputs": [
    {
     "data": {
      "text/html": [
       "31.9440106376959"
      ],
      "text/latex": [
       "31.9440106376959"
      ],
      "text/markdown": [
       "31.9440106376959"
      ],
      "text/plain": [
       "[1] 31.94401"
      ]
     },
     "metadata": {},
     "output_type": "display_data"
    },
    {
     "data": {
      "text/html": [
       "54.2196688938181"
      ],
      "text/latex": [
       "54.2196688938181"
      ],
      "text/markdown": [
       "54.2196688938181"
      ],
      "text/plain": [
       "[1] 54.21967"
      ]
     },
     "metadata": {},
     "output_type": "display_data"
    },
    {
     "data": {
      "text/html": [
       "35346"
      ],
      "text/latex": [
       "35346"
      ],
      "text/markdown": [
       "35346"
      ],
      "text/plain": [
       "[1] 35346"
      ]
     },
     "metadata": {},
     "output_type": "display_data"
    }
   ],
   "source": [
    "# population mean BMI\n",
    "pop_mean_bmi <- mean(diabetes$BMI)\n",
    "pop_mean_bmi\n",
    "# population variance\n",
    "sp_bmi <- var(diabetes$BMI)\n",
    "sp_bmi\n",
    "N <- nrow(diabetes_BMI)\n",
    "N"
   ]
  },
  {
   "cell_type": "markdown",
   "id": "07ed8d42-c52d-4385-8d36-97cdbc105c60",
   "metadata": {},
   "source": [
    "#### between strata variation for HighBP"
   ]
  },
  {
   "cell_type": "code",
   "execution_count": 6,
   "id": "13d87b92-6566-45ca-9d5c-f4c29286a375",
   "metadata": {
    "tags": []
   },
   "outputs": [
    {
     "data": {
      "text/html": [
       "<style>\n",
       ".dl-inline {width: auto; margin:0; padding: 0}\n",
       ".dl-inline>dt, .dl-inline>dd {float: none; width: auto; display: inline-block}\n",
       ".dl-inline>dt::after {content: \":\\0020\"; padding-right: .5ex}\n",
       ".dl-inline>dt:not(:first-of-type) {padding-left: .5ex}\n",
       "</style><dl class=dl-inline><dt>0</dt><dd>8742</dd><dt>1</dt><dd>26604</dd></dl>\n"
      ],
      "text/latex": [
       "\\begin{description*}\n",
       "\\item[0] 8742\n",
       "\\item[1] 26604\n",
       "\\end{description*}\n"
      ],
      "text/markdown": [
       "0\n",
       ":   87421\n",
       ":   26604\n",
       "\n"
      ],
      "text/plain": [
       "    0     1 \n",
       " 8742 26604 "
      ]
     },
     "metadata": {},
     "output_type": "display_data"
    },
    {
     "data": {
      "text/html": [
       "<style>\n",
       ".dl-inline {width: auto; margin:0; padding: 0}\n",
       ".dl-inline>dt, .dl-inline>dd {float: none; width: auto; display: inline-block}\n",
       ".dl-inline>dt::after {content: \":\\0020\"; padding-right: .5ex}\n",
       ".dl-inline>dt:not(:first-of-type) {padding-left: .5ex}\n",
       "</style><dl class=dl-inline><dt>0</dt><dd>0.247326430147683</dd><dt>1</dt><dd>0.752673569852317</dd></dl>\n"
      ],
      "text/latex": [
       "\\begin{description*}\n",
       "\\item[0] 0.247326430147683\n",
       "\\item[1] 0.752673569852317\n",
       "\\end{description*}\n"
      ],
      "text/markdown": [
       "0\n",
       ":   0.2473264301476831\n",
       ":   0.752673569852317\n",
       "\n"
      ],
      "text/plain": [
       "        0         1 \n",
       "0.2473264 0.7526736 "
      ]
     },
     "metadata": {},
     "output_type": "display_data"
    }
   ],
   "source": [
    "#population size for people get HighBP or not\n",
    "N.h_HighBP <- tapply(diabetes_BMI$HighBP, diabetes_BMI$HighBP, FUN = length)\n",
    "N.h_HighBP\n",
    "#Nh/N\n",
    "Nh_divide_N_HighBP <- N.h_HighBP/N\n",
    "Nh_divide_N_HighBP"
   ]
  },
  {
   "cell_type": "code",
   "execution_count": 7,
   "id": "7f13d9a8-931d-421b-a4e1-1c1ab178124c",
   "metadata": {
    "tags": []
   },
   "outputs": [
    {
     "data": {
      "text/html": [
       "0.745959818270502"
      ],
      "text/latex": [
       "0.745959818270502"
      ],
      "text/markdown": [
       "0.745959818270502"
      ],
      "text/plain": [
       "[1] 0.7459598"
      ]
     },
     "metadata": {},
     "output_type": "display_data"
    }
   ],
   "source": [
    "# get the variance between strata in HighBP(s^2pb)\n",
    "spb_step1_HighBP <- diabetes_BMI|>\n",
    "   group_by(HighBP) |>\n",
    "   summarize(partial_spb = (mean(BMI)-pop_mean_bmi)^2)\n",
    "spb_step2_HighBP <- Nh_divide_N_HighBP * spb_step1_HighBP$partial_spb\n",
    "spb_HighBP <- sum(spb_step2_HighBP)\n",
    "spb_HighBP"
   ]
  },
  {
   "cell_type": "markdown",
   "id": "89026226-d4d3-476a-a9b2-85733d8b94d9",
   "metadata": {},
   "source": [
    "#### between strata variation for HighChol"
   ]
  },
  {
   "cell_type": "code",
   "execution_count": 8,
   "id": "f3547603-be93-42cd-92cc-545f1b4dbf97",
   "metadata": {
    "tags": []
   },
   "outputs": [
    {
     "data": {
      "text/html": [
       "<style>\n",
       ".dl-inline {width: auto; margin:0; padding: 0}\n",
       ".dl-inline>dt, .dl-inline>dd {float: none; width: auto; display: inline-block}\n",
       ".dl-inline>dt::after {content: \":\\0020\"; padding-right: .5ex}\n",
       ".dl-inline>dt:not(:first-of-type) {padding-left: .5ex}\n",
       "</style><dl class=dl-inline><dt>0</dt><dd>11660</dd><dt>1</dt><dd>23686</dd></dl>\n"
      ],
      "text/latex": [
       "\\begin{description*}\n",
       "\\item[0] 11660\n",
       "\\item[1] 23686\n",
       "\\end{description*}\n"
      ],
      "text/markdown": [
       "0\n",
       ":   116601\n",
       ":   23686\n",
       "\n"
      ],
      "text/plain": [
       "    0     1 \n",
       "11660 23686 "
      ]
     },
     "metadata": {},
     "output_type": "display_data"
    },
    {
     "data": {
      "text/html": [
       "<style>\n",
       ".dl-inline {width: auto; margin:0; padding: 0}\n",
       ".dl-inline>dt, .dl-inline>dd {float: none; width: auto; display: inline-block}\n",
       ".dl-inline>dt::after {content: \":\\0020\"; padding-right: .5ex}\n",
       ".dl-inline>dt:not(:first-of-type) {padding-left: .5ex}\n",
       "</style><dl class=dl-inline><dt>0</dt><dd>0.32988174050812</dd><dt>1</dt><dd>0.67011825949188</dd></dl>\n"
      ],
      "text/latex": [
       "\\begin{description*}\n",
       "\\item[0] 0.32988174050812\n",
       "\\item[1] 0.67011825949188\n",
       "\\end{description*}\n"
      ],
      "text/markdown": [
       "0\n",
       ":   0.329881740508121\n",
       ":   0.67011825949188\n",
       "\n"
      ],
      "text/plain": [
       "        0         1 \n",
       "0.3298817 0.6701183 "
      ]
     },
     "metadata": {},
     "output_type": "display_data"
    }
   ],
   "source": [
    "#population size for people get HighChol or not\n",
    "N.h_HighChol <- tapply(diabetes_BMI$HighChol, diabetes_BMI$HighChol, FUN = length)\n",
    "N.h_HighChol\n",
    "#Nh/N\n",
    "Nh_divide_N_HighChol <- N.h_HighChol/N\n",
    "Nh_divide_N_HighChol"
   ]
  },
  {
   "cell_type": "code",
   "execution_count": 9,
   "id": "ee048ed8-a21a-410d-949d-28c7d226ffec",
   "metadata": {
    "tags": []
   },
   "outputs": [
    {
     "data": {
      "text/html": [
       "0.0280672176845293"
      ],
      "text/latex": [
       "0.0280672176845293"
      ],
      "text/markdown": [
       "0.0280672176845293"
      ],
      "text/plain": [
       "[1] 0.02806722"
      ]
     },
     "metadata": {},
     "output_type": "display_data"
    }
   ],
   "source": [
    "# get the variance between strata in HighChol(s^2pb)\n",
    "spb_step1_HighChol <- diabetes_BMI|>\n",
    "   group_by(HighChol) |>\n",
    "   summarize(partial_spb = (mean(BMI)-pop_mean_bmi)^2)\n",
    "spb_step2_HighChol <- Nh_divide_N_HighChol * spb_step1_HighChol$partial_spb\n",
    "spb_HighChol <- sum(spb_step2_HighChol)\n",
    "spb_HighChol"
   ]
  },
  {
   "cell_type": "markdown",
   "id": "de86ba12-ccaf-46b9-a7d4-3cbc013e3fe0",
   "metadata": {},
   "source": [
    "#### between strata variation for CholCheck"
   ]
  },
  {
   "cell_type": "code",
   "execution_count": 10,
   "id": "226c7be5-44b6-4429-b2cf-983f72c34268",
   "metadata": {
    "tags": []
   },
   "outputs": [
    {
     "data": {
      "text/html": [
       "<style>\n",
       ".dl-inline {width: auto; margin:0; padding: 0}\n",
       ".dl-inline>dt, .dl-inline>dd {float: none; width: auto; display: inline-block}\n",
       ".dl-inline>dt::after {content: \":\\0020\"; padding-right: .5ex}\n",
       ".dl-inline>dt:not(:first-of-type) {padding-left: .5ex}\n",
       "</style><dl class=dl-inline><dt>0</dt><dd>241</dd><dt>1</dt><dd>35105</dd></dl>\n"
      ],
      "text/latex": [
       "\\begin{description*}\n",
       "\\item[0] 241\n",
       "\\item[1] 35105\n",
       "\\end{description*}\n"
      ],
      "text/markdown": [
       "0\n",
       ":   2411\n",
       ":   35105\n",
       "\n"
      ],
      "text/plain": [
       "    0     1 \n",
       "  241 35105 "
      ]
     },
     "metadata": {},
     "output_type": "display_data"
    },
    {
     "data": {
      "text/html": [
       "<style>\n",
       ".dl-inline {width: auto; margin:0; padding: 0}\n",
       ".dl-inline>dt, .dl-inline>dd {float: none; width: auto; display: inline-block}\n",
       ".dl-inline>dt::after {content: \":\\0020\"; padding-right: .5ex}\n",
       ".dl-inline>dt:not(:first-of-type) {padding-left: .5ex}\n",
       "</style><dl class=dl-inline><dt>0</dt><dd>0.00681831041702031</dd><dt>1</dt><dd>0.99318168958298</dd></dl>\n"
      ],
      "text/latex": [
       "\\begin{description*}\n",
       "\\item[0] 0.00681831041702031\n",
       "\\item[1] 0.99318168958298\n",
       "\\end{description*}\n"
      ],
      "text/markdown": [
       "0\n",
       ":   0.006818310417020311\n",
       ":   0.99318168958298\n",
       "\n"
      ],
      "text/plain": [
       "         0          1 \n",
       "0.00681831 0.99318169 "
      ]
     },
     "metadata": {},
     "output_type": "display_data"
    }
   ],
   "source": [
    "#population size for people get CholCheck or not\n",
    "N.h_CholCheck <- tapply(diabetes_BMI$CholCheck, diabetes_BMI$CholCheck, FUN = length)\n",
    "N.h_CholCheck\n",
    "#Nh/N\n",
    "Nh_divide_N_CholCheck <- N.h_CholCheck/N\n",
    "Nh_divide_N_CholCheck"
   ]
  },
  {
   "cell_type": "code",
   "execution_count": 11,
   "id": "8088a80a-1613-45f5-8a3a-3d2888cfd936",
   "metadata": {
    "tags": []
   },
   "outputs": [
    {
     "data": {
      "text/html": [
       "0.0029323195326608"
      ],
      "text/latex": [
       "0.0029323195326608"
      ],
      "text/markdown": [
       "0.0029323195326608"
      ],
      "text/plain": [
       "[1] 0.00293232"
      ]
     },
     "metadata": {},
     "output_type": "display_data"
    }
   ],
   "source": [
    "# get the variance between strata in CholCheck(s^2pb)\n",
    "spb_step1_CholCheck <- diabetes_BMI|>\n",
    "   group_by(CholCheck) |>\n",
    "   summarize(partial_spb = (mean(BMI)-pop_mean_bmi)^2)\n",
    "spb_step2_CholCheck <- Nh_divide_N_CholCheck * spb_step1_CholCheck$partial_spb\n",
    "spb_CholCheck <- sum(spb_step2_CholCheck)\n",
    "spb_CholCheck"
   ]
  },
  {
   "cell_type": "markdown",
   "id": "b3d9a664-1f2a-4d35-a0cf-de50ba695fa8",
   "metadata": {},
   "source": [
    "#### between strata variation for in Stroke"
   ]
  },
  {
   "cell_type": "code",
   "execution_count": 12,
   "id": "e5a90cb1-6437-453c-837e-49ac83cbb306",
   "metadata": {
    "tags": []
   },
   "outputs": [
    {
     "data": {
      "text/html": [
       "<style>\n",
       ".dl-inline {width: auto; margin:0; padding: 0}\n",
       ".dl-inline>dt, .dl-inline>dd {float: none; width: auto; display: inline-block}\n",
       ".dl-inline>dt::after {content: \":\\0020\"; padding-right: .5ex}\n",
       ".dl-inline>dt:not(:first-of-type) {padding-left: .5ex}\n",
       "</style><dl class=dl-inline><dt>0</dt><dd>32078</dd><dt>1</dt><dd>3268</dd></dl>\n"
      ],
      "text/latex": [
       "\\begin{description*}\n",
       "\\item[0] 32078\n",
       "\\item[1] 3268\n",
       "\\end{description*}\n"
      ],
      "text/markdown": [
       "0\n",
       ":   320781\n",
       ":   3268\n",
       "\n"
      ],
      "text/plain": [
       "    0     1 \n",
       "32078  3268 "
      ]
     },
     "metadata": {},
     "output_type": "display_data"
    },
    {
     "data": {
      "text/html": [
       "<style>\n",
       ".dl-inline {width: auto; margin:0; padding: 0}\n",
       ".dl-inline>dt, .dl-inline>dd {float: none; width: auto; display: inline-block}\n",
       ".dl-inline>dt::after {content: \":\\0020\"; padding-right: .5ex}\n",
       ".dl-inline>dt:not(:first-of-type) {padding-left: .5ex}\n",
       "</style><dl class=dl-inline><dt>0</dt><dd>0.907542579075426</dd><dt>1</dt><dd>0.0924574209245742</dd></dl>\n"
      ],
      "text/latex": [
       "\\begin{description*}\n",
       "\\item[0] 0.907542579075426\n",
       "\\item[1] 0.0924574209245742\n",
       "\\end{description*}\n"
      ],
      "text/markdown": [
       "0\n",
       ":   0.9075425790754261\n",
       ":   0.0924574209245742\n",
       "\n"
      ],
      "text/plain": [
       "         0          1 \n",
       "0.90754258 0.09245742 "
      ]
     },
     "metadata": {},
     "output_type": "display_data"
    }
   ],
   "source": [
    "#population size for people get Stroke or not\n",
    "N.h_Stroke <- tapply(diabetes_BMI$Stroke, diabetes_BMI$Stroke, FUN = length)\n",
    "N.h_Stroke\n",
    "#Nh/N\n",
    "Nh_divide_N_Stroke <- N.h_Stroke/N\n",
    "Nh_divide_N_Stroke"
   ]
  },
  {
   "cell_type": "code",
   "execution_count": 13,
   "id": "4fca480e-9a69-43b7-b5af-bcc2a0ac1bce",
   "metadata": {},
   "outputs": [
    {
     "data": {
      "text/html": [
       "0.0303948590213586"
      ],
      "text/latex": [
       "0.0303948590213586"
      ],
      "text/markdown": [
       "0.0303948590213586"
      ],
      "text/plain": [
       "[1] 0.03039486"
      ]
     },
     "metadata": {},
     "output_type": "display_data"
    }
   ],
   "source": [
    "# get the variance between strata in Stroke(s^2pb)\n",
    "spb_step1_Stroke <- diabetes_BMI|>\n",
    "   group_by(Stroke) |>\n",
    "   summarize(partial_spb = (mean(BMI)-pop_mean_bmi)^2)\n",
    "spb_step2_Stroke <- Nh_divide_N_Stroke * spb_step1_Stroke$partial_spb\n",
    "spb_Stroke <- sum(spb_step2_Stroke)\n",
    "spb_Stroke"
   ]
  },
  {
   "cell_type": "markdown",
   "id": "41643594-f157-40f6-a195-06aa4b8bf381",
   "metadata": {},
   "source": [
    "#### between strata variation for in HeartDiseaseorAttack"
   ]
  },
  {
   "cell_type": "code",
   "execution_count": 14,
   "id": "45c7c1a1-5216-4487-8f61-3391913ad2f7",
   "metadata": {
    "tags": []
   },
   "outputs": [
    {
     "data": {
      "text/html": [
       "<style>\n",
       ".dl-inline {width: auto; margin:0; padding: 0}\n",
       ".dl-inline>dt, .dl-inline>dd {float: none; width: auto; display: inline-block}\n",
       ".dl-inline>dt::after {content: \":\\0020\"; padding-right: .5ex}\n",
       ".dl-inline>dt:not(:first-of-type) {padding-left: .5ex}\n",
       "</style><dl class=dl-inline><dt>0</dt><dd>27468</dd><dt>1</dt><dd>7878</dd></dl>\n"
      ],
      "text/latex": [
       "\\begin{description*}\n",
       "\\item[0] 27468\n",
       "\\item[1] 7878\n",
       "\\end{description*}\n"
      ],
      "text/markdown": [
       "0\n",
       ":   274681\n",
       ":   7878\n",
       "\n"
      ],
      "text/plain": [
       "    0     1 \n",
       "27468  7878 "
      ]
     },
     "metadata": {},
     "output_type": "display_data"
    },
    {
     "data": {
      "text/html": [
       "<style>\n",
       ".dl-inline {width: auto; margin:0; padding: 0}\n",
       ".dl-inline>dt, .dl-inline>dd {float: none; width: auto; display: inline-block}\n",
       ".dl-inline>dt::after {content: \":\\0020\"; padding-right: .5ex}\n",
       ".dl-inline>dt:not(:first-of-type) {padding-left: .5ex}\n",
       "</style><dl class=dl-inline><dt>0</dt><dd>0.777117637073502</dd><dt>1</dt><dd>0.222882362926498</dd></dl>\n"
      ],
      "text/latex": [
       "\\begin{description*}\n",
       "\\item[0] 0.777117637073502\n",
       "\\item[1] 0.222882362926498\n",
       "\\end{description*}\n"
      ],
      "text/markdown": [
       "0\n",
       ":   0.7771176370735021\n",
       ":   0.222882362926498\n",
       "\n"
      ],
      "text/plain": [
       "        0         1 \n",
       "0.7771176 0.2228824 "
      ]
     },
     "metadata": {},
     "output_type": "display_data"
    }
   ],
   "source": [
    "#population size for people get HeartDiseaseorAttack or not\n",
    "N.h_HeartDiseaseorAttack <- tapply(diabetes_BMI$HeartDiseaseorAttack, diabetes_BMI$HeartDiseaseorAttack, FUN = length)\n",
    "N.h_HeartDiseaseorAttack\n",
    "#Nh/N\n",
    "Nh_divide_N_HeartDiseaseorAttack <- N.h_HeartDiseaseorAttack/N\n",
    "Nh_divide_N_HeartDiseaseorAttack"
   ]
  },
  {
   "cell_type": "code",
   "execution_count": 15,
   "id": "0d59d49b-a5a8-4daf-9b3b-cf7b7ee6b8b8",
   "metadata": {
    "tags": []
   },
   "outputs": [
    {
     "data": {
      "text/html": [
       "0.0139898626444942"
      ],
      "text/latex": [
       "0.0139898626444942"
      ],
      "text/markdown": [
       "0.0139898626444942"
      ],
      "text/plain": [
       "[1] 0.01398986"
      ]
     },
     "metadata": {},
     "output_type": "display_data"
    }
   ],
   "source": [
    "# get the variance between strata in HeartDiseaseorAttack(s^2pb)\n",
    "spb_step1_HeartDiseaseorAttack <- diabetes_BMI|>\n",
    "   group_by(HeartDiseaseorAttack) |>\n",
    "   summarize(partial_spb = (mean(BMI)-pop_mean_bmi)^2)\n",
    "spb_step2_HeartDiseaseorAttack <- Nh_divide_N_HeartDiseaseorAttack * spb_step1_HeartDiseaseorAttack$partial_spb\n",
    "spb_HeartDiseaseorAttack <- sum(spb_step2_HeartDiseaseorAttack)\n",
    "spb_HeartDiseaseorAttack"
   ]
  },
  {
   "cell_type": "markdown",
   "id": "f9784e11-ebb7-4591-965b-310976140333",
   "metadata": {},
   "source": [
    "#### between strata variation for in HvyAlcoholConsump"
   ]
  },
  {
   "cell_type": "code",
   "execution_count": 16,
   "id": "2b55da74-06ae-4a6a-aea1-ad6504180730",
   "metadata": {
    "tags": []
   },
   "outputs": [
    {
     "data": {
      "text/html": [
       "<style>\n",
       ".dl-inline {width: auto; margin:0; padding: 0}\n",
       ".dl-inline>dt, .dl-inline>dd {float: none; width: auto; display: inline-block}\n",
       ".dl-inline>dt::after {content: \":\\0020\"; padding-right: .5ex}\n",
       ".dl-inline>dt:not(:first-of-type) {padding-left: .5ex}\n",
       "</style><dl class=dl-inline><dt>0</dt><dd>34514</dd><dt>1</dt><dd>832</dd></dl>\n"
      ],
      "text/latex": [
       "\\begin{description*}\n",
       "\\item[0] 34514\n",
       "\\item[1] 832\n",
       "\\end{description*}\n"
      ],
      "text/markdown": [
       "0\n",
       ":   345141\n",
       ":   832\n",
       "\n"
      ],
      "text/plain": [
       "    0     1 \n",
       "34514   832 "
      ]
     },
     "metadata": {},
     "output_type": "display_data"
    },
    {
     "data": {
      "text/html": [
       "<style>\n",
       ".dl-inline {width: auto; margin:0; padding: 0}\n",
       ".dl-inline>dt, .dl-inline>dd {float: none; width: auto; display: inline-block}\n",
       ".dl-inline>dt::after {content: \":\\0020\"; padding-right: .5ex}\n",
       ".dl-inline>dt:not(:first-of-type) {padding-left: .5ex}\n",
       "</style><dl class=dl-inline><dt>0</dt><dd>0.976461268601822</dd><dt>1</dt><dd>0.023538731398178</dd></dl>\n"
      ],
      "text/latex": [
       "\\begin{description*}\n",
       "\\item[0] 0.976461268601822\n",
       "\\item[1] 0.023538731398178\n",
       "\\end{description*}\n"
      ],
      "text/markdown": [
       "0\n",
       ":   0.9764612686018221\n",
       ":   0.023538731398178\n",
       "\n"
      ],
      "text/plain": [
       "         0          1 \n",
       "0.97646127 0.02353873 "
      ]
     },
     "metadata": {},
     "output_type": "display_data"
    }
   ],
   "source": [
    "#population size for people get HvyAlcoholConsump\n",
    "N.h_HvyAlcoholConsump <- tapply(diabetes_BMI$HvyAlcoholConsump, diabetes_BMI$HvyAlcoholConsump, FUN = length)\n",
    "N.h_HvyAlcoholConsump\n",
    "#Nh/N\n",
    "Nh_divide_N_HvyAlcoholConsump <- N.h_HvyAlcoholConsump/N\n",
    "Nh_divide_N_HvyAlcoholConsump"
   ]
  },
  {
   "cell_type": "code",
   "execution_count": 17,
   "id": "0d6db403-c514-472e-90f9-e06f0c614717",
   "metadata": {},
   "outputs": [
    {
     "data": {
      "text/html": [
       "0.0366169594159447"
      ],
      "text/latex": [
       "0.0366169594159447"
      ],
      "text/markdown": [
       "0.0366169594159447"
      ],
      "text/plain": [
       "[1] 0.03661696"
      ]
     },
     "metadata": {},
     "output_type": "display_data"
    }
   ],
   "source": [
    "# get the variance between strata in Nh_divide_N_HvyAlcoholConsump(s^2pb)\n",
    "spb_step1_HvyAlcoholConsump <- diabetes_BMI|>\n",
    "   group_by(HvyAlcoholConsump) |>\n",
    "   summarize(partial_spb = (mean(BMI)-pop_mean_bmi)^2)\n",
    "spb_step2_HvyAlcoholConsump <- Nh_divide_N_HvyAlcoholConsump * spb_step1_HvyAlcoholConsump$partial_spb\n",
    "spb_HvyAlcoholConsump <- sum(spb_step2_HvyAlcoholConsump)\n",
    "spb_HvyAlcoholConsump"
   ]
  },
  {
   "cell_type": "markdown",
   "id": "623d4f84-c180-4e5c-bec8-24eb2aa8f638",
   "metadata": {},
   "source": [
    "### between strata variation for HighBP has the highest value, so I choose it set the strata for my estimation."
   ]
  },
  {
   "cell_type": "markdown",
   "id": "9921d00d-90ce-4e84-9887-a412315f86eb",
   "metadata": {},
   "source": [
    "### Step 3 Clean the data agian"
   ]
  },
  {
   "cell_type": "code",
   "execution_count": 18,
   "id": "3101a85f-1461-46b0-a6b9-7182daeffdc1",
   "metadata": {
    "tags": []
   },
   "outputs": [
    {
     "data": {
      "text/html": [
       "<table class=\"dataframe\">\n",
       "<caption>A data.frame: 6 × 2</caption>\n",
       "<thead>\n",
       "\t<tr><th></th><th scope=col>BMI</th><th scope=col>HighBP</th></tr>\n",
       "\t<tr><th></th><th scope=col>&lt;dbl&gt;</th><th scope=col>&lt;dbl&gt;</th></tr>\n",
       "</thead>\n",
       "<tbody>\n",
       "\t<tr><th scope=row>1</th><td>30</td><td>1</td></tr>\n",
       "\t<tr><th scope=row>2</th><td>25</td><td>0</td></tr>\n",
       "\t<tr><th scope=row>3</th><td>28</td><td>1</td></tr>\n",
       "\t<tr><th scope=row>4</th><td>23</td><td>0</td></tr>\n",
       "\t<tr><th scope=row>5</th><td>27</td><td>1</td></tr>\n",
       "\t<tr><th scope=row>6</th><td>37</td><td>1</td></tr>\n",
       "</tbody>\n",
       "</table>\n"
      ],
      "text/latex": [
       "A data.frame: 6 × 2\n",
       "\\begin{tabular}{r|ll}\n",
       "  & BMI & HighBP\\\\\n",
       "  & <dbl> & <dbl>\\\\\n",
       "\\hline\n",
       "\t1 & 30 & 1\\\\\n",
       "\t2 & 25 & 0\\\\\n",
       "\t3 & 28 & 1\\\\\n",
       "\t4 & 23 & 0\\\\\n",
       "\t5 & 27 & 1\\\\\n",
       "\t6 & 37 & 1\\\\\n",
       "\\end{tabular}\n"
      ],
      "text/markdown": [
       "\n",
       "A data.frame: 6 × 2\n",
       "\n",
       "| <!--/--> | BMI &lt;dbl&gt; | HighBP &lt;dbl&gt; |\n",
       "|---|---|---|\n",
       "| 1 | 30 | 1 |\n",
       "| 2 | 25 | 0 |\n",
       "| 3 | 28 | 1 |\n",
       "| 4 | 23 | 0 |\n",
       "| 5 | 27 | 1 |\n",
       "| 6 | 37 | 1 |\n",
       "\n"
      ],
      "text/plain": [
       "  BMI HighBP\n",
       "1 30  1     \n",
       "2 25  0     \n",
       "3 28  1     \n",
       "4 23  0     \n",
       "5 27  1     \n",
       "6 37  1     "
      ]
     },
     "metadata": {},
     "output_type": "display_data"
    }
   ],
   "source": [
    "diabetes_BMI_tidy <- diabetes_BMI |>\n",
    "   select(BMI,HighBP)\n",
    "head(diabetes_BMI_tidy)"
   ]
  },
  {
   "cell_type": "markdown",
   "id": "09912a77-b99d-405c-a496-265f940a5ce3",
   "metadata": {},
   "source": [
    "### Step 4 Allocating for the sample size"
   ]
  },
  {
   "cell_type": "markdown",
   "id": "d00f9286-fe8c-4c22-b623-b3bd0cf134bf",
   "metadata": {},
   "source": [
    "##### 1.  Theorem: Assume the stratum sizes are large enough to ignore FPC. Then the choices of (n1, . . . , nH ) that minimize subject to a total budget constraint of n1c1 + . . . + nH cH = C ,satisfy:\n",
    "\n",
    "$$\n",
    "\\frac{n_{h}}{n}\\ = \\frac{N_{h}(s_{h,guess}/\\sqrt{c_{h}})} {\\sum_{k=1}^{H}N_{k}(s_{k,guess}/\\sqrt{c_{h}})}\n",
    "$$\n",
    "\n",
    "##### (and set n as budget allows), where ck is the cost of sampling nk units from stratum k and C is the total cost (fixed).\n",
    "##### since c is unknow, so assume c is equal, it can be cancel in the fraction\n"
   ]
  },
  {
   "cell_type": "code",
   "execution_count": 19,
   "id": "231fc0a1-a941-488c-9212-1a4487c13a44",
   "metadata": {
    "tags": []
   },
   "outputs": [
    {
     "data": {
      "text/html": [
       "42"
      ],
      "text/latex": [
       "42"
      ],
      "text/markdown": [
       "42"
      ],
      "text/plain": [
       "[1] 42"
      ]
     },
     "metadata": {},
     "output_type": "display_data"
    },
    {
     "data": {
      "text/html": [
       "8742"
      ],
      "text/latex": [
       "8742"
      ],
      "text/markdown": [
       "8742"
      ],
      "text/plain": [
       "[1] 8742"
      ]
     },
     "metadata": {},
     "output_type": "display_data"
    },
    {
     "data": {
      "text/html": [
       "26604"
      ],
      "text/latex": [
       "26604"
      ],
      "text/markdown": [
       "26604"
      ],
      "text/plain": [
       "[1] 26604"
      ]
     },
     "metadata": {},
     "output_type": "display_data"
    },
    {
     "data": {
      "text/html": [
       "6.95045262460856"
      ],
      "text/latex": [
       "6.95045262460856"
      ],
      "text/markdown": [
       "6.95045262460856"
      ],
      "text/plain": [
       "[1] 6.950453"
      ]
     },
     "metadata": {},
     "output_type": "display_data"
    },
    {
     "data": {
      "text/html": [
       "7.42783536143592"
      ],
      "text/latex": [
       "7.42783536143592"
      ],
      "text/markdown": [
       "7.42783536143592"
      ],
      "text/plain": [
       "[1] 7.427835"
      ]
     },
     "metadata": {},
     "output_type": "display_data"
    },
    {
     "data": {
      "text/html": [
       "9.87709958968149"
      ],
      "text/latex": [
       "9.87709958968149"
      ],
      "text/markdown": [
       "9.87709958968149"
      ],
      "text/plain": [
       "[1] 9.8771"
      ]
     },
     "metadata": {},
     "output_type": "display_data"
    },
    {
     "data": {
      "text/html": [
       "32.1229004103185"
      ],
      "text/latex": [
       "32.1229004103185"
      ],
      "text/markdown": [
       "32.1229004103185"
      ],
      "text/plain": [
       "[1] 32.1229"
      ]
     },
     "metadata": {},
     "output_type": "display_data"
    }
   ],
   "source": [
    "n <- 42 # total sample size \n",
    "n\n",
    "N1_BMI <- N.h_HighBP[[\"0\"]]\n",
    "N2_BMI <- N.h_HighBP[[\"1\"]]\n",
    "N1_BMI\n",
    "N2_BMI\n",
    "# Calculate the standard deviation of BMI for HighBP = 0\n",
    "sd_N1 <- sd(subset(diabetes_BMI_tidy$BMI, diabetes_BMI_tidy$HighBP == 0))\n",
    "# Display the standard deviation of BMI for HighBP = 0\n",
    "sd_N1\n",
    "\n",
    "# Calculate the standard deviation of BMI for HighBP = 0\n",
    "sd_N2 <- sd(subset(diabetes_BMI_tidy$BMI, diabetes_BMI_tidy$HighBP == 1))\n",
    "# Display the standard deviation of BMI for HighBP = 0\n",
    "sd_N2\n",
    "\n",
    "n1_BMI <- (N1_BMI*sd_N1)/(N1_BMI*sd_N1+N2_BMI*sd_N2)*n\n",
    "\n",
    "n2_BMI <- (N2_BMI*sd_N2)/(N1_BMI*sd_N1+N2_BMI*sd_N2)*n\n",
    "n1_BMI\n",
    "n2_BMI"
   ]
  },
  {
   "cell_type": "markdown",
   "id": "378a1262-3e73-438b-8e31-fc99a4041b8a",
   "metadata": {},
   "source": [
    "##### 2. proportion allocation"
   ]
  },
  {
   "cell_type": "code",
   "execution_count": 20,
   "id": "21303e23-3122-4dcd-8498-98af0bdb9d75",
   "metadata": {
    "tags": []
   },
   "outputs": [
    {
     "data": {
      "text/html": [
       "10.3877100662027"
      ],
      "text/latex": [
       "10.3877100662027"
      ],
      "text/markdown": [
       "10.3877100662027"
      ],
      "text/plain": [
       "[1] 10.38771"
      ]
     },
     "metadata": {},
     "output_type": "display_data"
    },
    {
     "data": {
      "text/html": [
       "31.6122899337973"
      ],
      "text/latex": [
       "31.6122899337973"
      ],
      "text/markdown": [
       "31.6122899337973"
      ],
      "text/plain": [
       "[1] 31.61229"
      ]
     },
     "metadata": {},
     "output_type": "display_data"
    }
   ],
   "source": [
    "n1_BMI1 <- N1_BMI/N*n\n",
    "n2_BMI1 <- N2_BMI/N*n\n",
    "n1_BMI1\n",
    "n2_BMI1"
   ]
  },
  {
   "cell_type": "markdown",
   "id": "9c499f88-16e8-4b87-9203-4cd8eb9a9cc7",
   "metadata": {},
   "source": [
    "### since size of n1 and n2 get from two method is similar, so I choose n1 = 10 n2 = 32"
   ]
  },
  {
   "cell_type": "markdown",
   "id": "2aa76252-bd97-4b07-854d-30c04835adea",
   "metadata": {},
   "source": [
    "### Step 5 Do the sampling"
   ]
  },
  {
   "cell_type": "code",
   "execution_count": 21,
   "id": "cd424a98-76de-4d71-b0fa-095594e571f0",
   "metadata": {
    "tags": []
   },
   "outputs": [],
   "source": [
    "n.h <- c(10, 32)  # specify the sample size for each HighBP\n",
    "HighBP <- c(0, 1)  # Assuming you have two levels 0 and 1\n",
    "set.seed(0)\n",
    "STR.sample <- NULL\n",
    "# Loop over the HighBP\n",
    "for (i in 1:length(HighBP)) {\n",
    "# Get the row indices corresponding to a certain region, and save it to a variable\n",
    "  row.indices <- which(diabetes_BMI_tidy$HighBP == HighBP[i])\n",
    "  \n",
    "  if (length(row.indices) >= n.h[i]) {\n",
    "# Sample the indices (you are getting an SRS of size nh from a stratum of size Nh)\n",
    "    sample.indices <- sample(row.indices, n.h[i], replace = FALSE)\n",
    "# Add the sample for this stratum to those from the previous strata\n",
    "    STR.sample <- rbind(STR.sample, diabetes_BMI_tidy[sample.indices, ])\n",
    "  } else {\n",
    "# Handle case when the sample size is larger than the available data for a specific HighBP\n",
    "    print(paste(\"Not enough data for HighBP\", HighBP[i]))\n",
    "  }\n",
    "}\n"
   ]
  },
  {
   "cell_type": "markdown",
   "id": "487b2735-b1f1-452d-a84b-652ef62dc0c1",
   "metadata": {},
   "source": [
    "### Step 6 Get the estimate"
   ]
  },
  {
   "cell_type": "code",
   "execution_count": 22,
   "id": "447f0465-f91d-4d32-8ff2-8732c32463cd",
   "metadata": {
    "tags": []
   },
   "outputs": [
    {
     "data": {
      "text/html": [
       "<style>\n",
       ".list-inline {list-style: none; margin:0; padding: 0}\n",
       ".list-inline>li {display: inline-block}\n",
       ".list-inline>li:not(:last-child)::after {content: \"\\00b7\"; padding: 0 .5ex}\n",
       "</style>\n",
       "<ol class=list-inline><li>33.4818260906467</li><li>0.917826954152501</li></ol>\n"
      ],
      "text/latex": [
       "\\begin{enumerate*}\n",
       "\\item 33.4818260906467\n",
       "\\item 0.917826954152501\n",
       "\\end{enumerate*}\n"
      ],
      "text/markdown": [
       "1. 33.4818260906467\n",
       "2. 0.917826954152501\n",
       "\n",
       "\n"
      ],
      "text/plain": [
       "[1] 33.481826  0.917827"
      ]
     },
     "metadata": {},
     "output_type": "display_data"
    }
   ],
   "source": [
    "# Estimate the population mean using STR with sample size 50\n",
    "\n",
    "# Calculate sample means and variances within strata\n",
    "ybar.h <- tapply(STR.sample$BMI, STR.sample$HighBP, mean)\n",
    "var.h <- tapply(STR.sample$BMI, STR.sample$HighBP, var)\n",
    "\n",
    "# Calculate the standard error within strata\n",
    "se.h <- sqrt((1 - n.h / N) * var.h / n.h)\n",
    "\n",
    "# Combine the strata means and standard errors\n",
    "ybar.str <- sum(N.h_HighBP / N * ybar.h)\n",
    "se.str <- sqrt(sum((N.h_HighBP / N)^2 * se.h^2))\n",
    "\n",
    "c(ybar.str, se.str)\n"
   ]
  },
  {
   "cell_type": "markdown",
   "id": "c906edec-626b-41e5-ad56-ac62fb3347fb",
   "metadata": {},
   "source": [
    "### Step 7 get the 95% CI"
   ]
  },
  {
   "cell_type": "code",
   "execution_count": 23,
   "id": "01e09114-33ed-4494-851e-2187f081bf3c",
   "metadata": {
    "tags": []
   },
   "outputs": [
    {
     "data": {
      "text/html": [
       "<style>\n",
       ".list-inline {list-style: none; margin:0; padding: 0}\n",
       ".list-inline>li {display: inline-block}\n",
       ".list-inline>li:not(:last-child)::after {content: \"\\00b7\"; padding: 0 .5ex}\n",
       "</style>\n",
       "<ol class=list-inline><li>31.6829183164678</li><li>35.2807338648257</li></ol>\n"
      ],
      "text/latex": [
       "\\begin{enumerate*}\n",
       "\\item 31.6829183164678\n",
       "\\item 35.2807338648257\n",
       "\\end{enumerate*}\n"
      ],
      "text/markdown": [
       "1. 31.6829183164678\n",
       "2. 35.2807338648257\n",
       "\n",
       "\n"
      ],
      "text/plain": [
       "[1] 31.68292 35.28073"
      ]
     },
     "metadata": {},
     "output_type": "display_data"
    }
   ],
   "source": [
    "# Calculate the 95% confidence interval using the z-score\n",
    "z_score <- qnorm(0.975)  # 0.975 corresponds to (1 - alpha / 2) for a two-tailed test\n",
    "margin_of_error <- z_score * se.str\n",
    "\n",
    "lower_bound <- ybar.str - margin_of_error\n",
    "upper_bound <- ybar.str + margin_of_error\n",
    "\n",
    "c(lower_bound, upper_bound)\n"
   ]
  },
  {
   "cell_type": "code",
   "execution_count": null,
   "id": "c205b64e-1a6e-40a4-8044-7203c92744f0",
   "metadata": {},
   "outputs": [],
   "source": []
  }
 ],
 "metadata": {
  "kernelspec": {
   "display_name": "R",
   "language": "R",
   "name": "ir"
  },
  "language_info": {
   "codemirror_mode": "r",
   "file_extension": ".r",
   "mimetype": "text/x-r-source",
   "name": "R",
   "pygments_lexer": "r",
   "version": "4.2.2"
  }
 },
 "nbformat": 4,
 "nbformat_minor": 5
}
