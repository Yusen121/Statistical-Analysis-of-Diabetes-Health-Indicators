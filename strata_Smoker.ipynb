{
 "cells": [
  {
   "cell_type": "markdown",
   "id": "35069377-ba74-4b55-861e-40bb39d8ac91",
   "metadata": {},
   "source": [
    "## The Population Proportion for a binary Variable Smoker"
   ]
  },
  {
   "cell_type": "markdown",
   "id": "01c27c45-8c06-4101-9f56-51aa698fc463",
   "metadata": {},
   "source": [
    "### Step 1 Clean the data"
   ]
  },
  {
   "cell_type": "code",
   "execution_count": 23,
   "id": "2c72295a-af4c-49d0-8039-5acab3ba15b7",
   "metadata": {
    "tags": []
   },
   "outputs": [],
   "source": [
    "library(dplyr)"
   ]
  },
  {
   "cell_type": "code",
   "execution_count": 24,
   "id": "09fe4ec3-0a30-461c-8776-005756de6927",
   "metadata": {
    "tags": []
   },
   "outputs": [
    {
     "name": "stderr",
     "output_type": "stream",
     "text": [
      "The following objects are masked from diabetes (pos = 3):\n",
      "\n",
      "    Age, AnyHealthcare, BMI, CholCheck, Diabetes_012, DiffWalk,\n",
      "    Education, Fruits, GenHlth, HeartDiseaseorAttack, HighBP, HighChol,\n",
      "    HvyAlcoholConsump, Income, MentHlth, NoDocbcCost, PhysActivity,\n",
      "    PhysHlth, Sex, Smoker, Stroke, Veggies\n",
      "\n",
      "\n",
      "The following objects are masked from diabetes (pos = 4):\n",
      "\n",
      "    Age, AnyHealthcare, BMI, CholCheck, Diabetes_012, DiffWalk,\n",
      "    Education, Fruits, GenHlth, HeartDiseaseorAttack, HighBP, HighChol,\n",
      "    HvyAlcoholConsump, Income, MentHlth, NoDocbcCost, PhysActivity,\n",
      "    PhysHlth, Sex, Smoker, Stroke, Veggies\n",
      "\n",
      "\n",
      "The following objects are masked from diabetes (pos = 5):\n",
      "\n",
      "    Age, AnyHealthcare, BMI, CholCheck, Diabetes_012, DiffWalk,\n",
      "    Education, Fruits, GenHlth, HeartDiseaseorAttack, HighBP, HighChol,\n",
      "    HvyAlcoholConsump, Income, MentHlth, NoDocbcCost, PhysActivity,\n",
      "    PhysHlth, Sex, Smoker, Stroke, Veggies\n",
      "\n",
      "\n"
     ]
    },
    {
     "data": {
      "text/html": [
       "<table class=\"dataframe\">\n",
       "<caption>A data.frame: 6 × 22</caption>\n",
       "<thead>\n",
       "\t<tr><th></th><th scope=col>Diabetes_012</th><th scope=col>HighBP</th><th scope=col>HighChol</th><th scope=col>CholCheck</th><th scope=col>BMI</th><th scope=col>Smoker</th><th scope=col>Stroke</th><th scope=col>HeartDiseaseorAttack</th><th scope=col>PhysActivity</th><th scope=col>Fruits</th><th scope=col>⋯</th><th scope=col>AnyHealthcare</th><th scope=col>NoDocbcCost</th><th scope=col>GenHlth</th><th scope=col>MentHlth</th><th scope=col>PhysHlth</th><th scope=col>DiffWalk</th><th scope=col>Sex</th><th scope=col>Age</th><th scope=col>Education</th><th scope=col>Income</th></tr>\n",
       "\t<tr><th></th><th scope=col>&lt;dbl&gt;</th><th scope=col>&lt;dbl&gt;</th><th scope=col>&lt;dbl&gt;</th><th scope=col>&lt;dbl&gt;</th><th scope=col>&lt;dbl&gt;</th><th scope=col>&lt;dbl&gt;</th><th scope=col>&lt;dbl&gt;</th><th scope=col>&lt;dbl&gt;</th><th scope=col>&lt;dbl&gt;</th><th scope=col>&lt;dbl&gt;</th><th scope=col>⋯</th><th scope=col>&lt;dbl&gt;</th><th scope=col>&lt;dbl&gt;</th><th scope=col>&lt;dbl&gt;</th><th scope=col>&lt;dbl&gt;</th><th scope=col>&lt;dbl&gt;</th><th scope=col>&lt;dbl&gt;</th><th scope=col>&lt;dbl&gt;</th><th scope=col>&lt;dbl&gt;</th><th scope=col>&lt;dbl&gt;</th><th scope=col>&lt;dbl&gt;</th></tr>\n",
       "</thead>\n",
       "<tbody>\n",
       "\t<tr><th scope=row>1</th><td>0</td><td>1</td><td>1</td><td>1</td><td>40</td><td>1</td><td>0</td><td>0</td><td>0</td><td>0</td><td>⋯</td><td>1</td><td>0</td><td>5</td><td>18</td><td>15</td><td>1</td><td>0</td><td> 9</td><td>4</td><td>3</td></tr>\n",
       "\t<tr><th scope=row>2</th><td>0</td><td>0</td><td>0</td><td>0</td><td>25</td><td>1</td><td>0</td><td>0</td><td>1</td><td>0</td><td>⋯</td><td>0</td><td>1</td><td>3</td><td> 0</td><td> 0</td><td>0</td><td>0</td><td> 7</td><td>6</td><td>1</td></tr>\n",
       "\t<tr><th scope=row>3</th><td>0</td><td>1</td><td>1</td><td>1</td><td>28</td><td>0</td><td>0</td><td>0</td><td>0</td><td>1</td><td>⋯</td><td>1</td><td>1</td><td>5</td><td>30</td><td>30</td><td>1</td><td>0</td><td> 9</td><td>4</td><td>8</td></tr>\n",
       "\t<tr><th scope=row>4</th><td>0</td><td>1</td><td>0</td><td>1</td><td>27</td><td>0</td><td>0</td><td>0</td><td>1</td><td>1</td><td>⋯</td><td>1</td><td>0</td><td>2</td><td> 0</td><td> 0</td><td>0</td><td>0</td><td>11</td><td>3</td><td>6</td></tr>\n",
       "\t<tr><th scope=row>5</th><td>0</td><td>1</td><td>1</td><td>1</td><td>24</td><td>0</td><td>0</td><td>0</td><td>1</td><td>1</td><td>⋯</td><td>1</td><td>0</td><td>2</td><td> 3</td><td> 0</td><td>0</td><td>0</td><td>11</td><td>5</td><td>4</td></tr>\n",
       "\t<tr><th scope=row>6</th><td>0</td><td>1</td><td>1</td><td>1</td><td>25</td><td>1</td><td>0</td><td>0</td><td>1</td><td>1</td><td>⋯</td><td>1</td><td>0</td><td>2</td><td> 0</td><td> 2</td><td>0</td><td>1</td><td>10</td><td>6</td><td>8</td></tr>\n",
       "</tbody>\n",
       "</table>\n"
      ],
      "text/latex": [
       "A data.frame: 6 × 22\n",
       "\\begin{tabular}{r|lllllllllllllllllllll}\n",
       "  & Diabetes\\_012 & HighBP & HighChol & CholCheck & BMI & Smoker & Stroke & HeartDiseaseorAttack & PhysActivity & Fruits & ⋯ & AnyHealthcare & NoDocbcCost & GenHlth & MentHlth & PhysHlth & DiffWalk & Sex & Age & Education & Income\\\\\n",
       "  & <dbl> & <dbl> & <dbl> & <dbl> & <dbl> & <dbl> & <dbl> & <dbl> & <dbl> & <dbl> & ⋯ & <dbl> & <dbl> & <dbl> & <dbl> & <dbl> & <dbl> & <dbl> & <dbl> & <dbl> & <dbl>\\\\\n",
       "\\hline\n",
       "\t1 & 0 & 1 & 1 & 1 & 40 & 1 & 0 & 0 & 0 & 0 & ⋯ & 1 & 0 & 5 & 18 & 15 & 1 & 0 &  9 & 4 & 3\\\\\n",
       "\t2 & 0 & 0 & 0 & 0 & 25 & 1 & 0 & 0 & 1 & 0 & ⋯ & 0 & 1 & 3 &  0 &  0 & 0 & 0 &  7 & 6 & 1\\\\\n",
       "\t3 & 0 & 1 & 1 & 1 & 28 & 0 & 0 & 0 & 0 & 1 & ⋯ & 1 & 1 & 5 & 30 & 30 & 1 & 0 &  9 & 4 & 8\\\\\n",
       "\t4 & 0 & 1 & 0 & 1 & 27 & 0 & 0 & 0 & 1 & 1 & ⋯ & 1 & 0 & 2 &  0 &  0 & 0 & 0 & 11 & 3 & 6\\\\\n",
       "\t5 & 0 & 1 & 1 & 1 & 24 & 0 & 0 & 0 & 1 & 1 & ⋯ & 1 & 0 & 2 &  3 &  0 & 0 & 0 & 11 & 5 & 4\\\\\n",
       "\t6 & 0 & 1 & 1 & 1 & 25 & 1 & 0 & 0 & 1 & 1 & ⋯ & 1 & 0 & 2 &  0 &  2 & 0 & 1 & 10 & 6 & 8\\\\\n",
       "\\end{tabular}\n"
      ],
      "text/markdown": [
       "\n",
       "A data.frame: 6 × 22\n",
       "\n",
       "| <!--/--> | Diabetes_012 &lt;dbl&gt; | HighBP &lt;dbl&gt; | HighChol &lt;dbl&gt; | CholCheck &lt;dbl&gt; | BMI &lt;dbl&gt; | Smoker &lt;dbl&gt; | Stroke &lt;dbl&gt; | HeartDiseaseorAttack &lt;dbl&gt; | PhysActivity &lt;dbl&gt; | Fruits &lt;dbl&gt; | ⋯ ⋯ | AnyHealthcare &lt;dbl&gt; | NoDocbcCost &lt;dbl&gt; | GenHlth &lt;dbl&gt; | MentHlth &lt;dbl&gt; | PhysHlth &lt;dbl&gt; | DiffWalk &lt;dbl&gt; | Sex &lt;dbl&gt; | Age &lt;dbl&gt; | Education &lt;dbl&gt; | Income &lt;dbl&gt; |\n",
       "|---|---|---|---|---|---|---|---|---|---|---|---|---|---|---|---|---|---|---|---|---|---|\n",
       "| 1 | 0 | 1 | 1 | 1 | 40 | 1 | 0 | 0 | 0 | 0 | ⋯ | 1 | 0 | 5 | 18 | 15 | 1 | 0 |  9 | 4 | 3 |\n",
       "| 2 | 0 | 0 | 0 | 0 | 25 | 1 | 0 | 0 | 1 | 0 | ⋯ | 0 | 1 | 3 |  0 |  0 | 0 | 0 |  7 | 6 | 1 |\n",
       "| 3 | 0 | 1 | 1 | 1 | 28 | 0 | 0 | 0 | 0 | 1 | ⋯ | 1 | 1 | 5 | 30 | 30 | 1 | 0 |  9 | 4 | 8 |\n",
       "| 4 | 0 | 1 | 0 | 1 | 27 | 0 | 0 | 0 | 1 | 1 | ⋯ | 1 | 0 | 2 |  0 |  0 | 0 | 0 | 11 | 3 | 6 |\n",
       "| 5 | 0 | 1 | 1 | 1 | 24 | 0 | 0 | 0 | 1 | 1 | ⋯ | 1 | 0 | 2 |  3 |  0 | 0 | 0 | 11 | 5 | 4 |\n",
       "| 6 | 0 | 1 | 1 | 1 | 25 | 1 | 0 | 0 | 1 | 1 | ⋯ | 1 | 0 | 2 |  0 |  2 | 0 | 1 | 10 | 6 | 8 |\n",
       "\n"
      ],
      "text/plain": [
       "  Diabetes_012 HighBP HighChol CholCheck BMI Smoker Stroke HeartDiseaseorAttack\n",
       "1 0            1      1        1         40  1      0      0                   \n",
       "2 0            0      0        0         25  1      0      0                   \n",
       "3 0            1      1        1         28  0      0      0                   \n",
       "4 0            1      0        1         27  0      0      0                   \n",
       "5 0            1      1        1         24  0      0      0                   \n",
       "6 0            1      1        1         25  1      0      0                   \n",
       "  PhysActivity Fruits ⋯ AnyHealthcare NoDocbcCost GenHlth MentHlth PhysHlth\n",
       "1 0            0      ⋯ 1             0           5       18       15      \n",
       "2 1            0      ⋯ 0             1           3        0        0      \n",
       "3 0            1      ⋯ 1             1           5       30       30      \n",
       "4 1            1      ⋯ 1             0           2        0        0      \n",
       "5 1            1      ⋯ 1             0           2        3        0      \n",
       "6 1            1      ⋯ 1             0           2        0        2      \n",
       "  DiffWalk Sex Age Education Income\n",
       "1 1        0    9  4         3     \n",
       "2 0        0    7  6         1     \n",
       "3 1        0    9  4         8     \n",
       "4 0        0   11  3         6     \n",
       "5 0        0   11  5         4     \n",
       "6 0        1   10  6         8     "
      ]
     },
     "metadata": {},
     "output_type": "display_data"
    }
   ],
   "source": [
    "diabetes <- read.csv(\"diabetes_012_health_indicators_BRFSS2015.csv\", header = TRUE)\n",
    "attach(diabetes) \n",
    "head(diabetes)"
   ]
  },
  {
   "cell_type": "code",
   "execution_count": 25,
   "id": "d8230897-99b9-474e-a980-b9c7e392e803",
   "metadata": {
    "tags": []
   },
   "outputs": [
    {
     "data": {
      "text/html": [
       "<table class=\"dataframe\">\n",
       "<caption>A data.frame: 6 × 9</caption>\n",
       "<thead>\n",
       "\t<tr><th></th><th scope=col>Diabetes_012</th><th scope=col>BMI</th><th scope=col>Smoker</th><th scope=col>HighBP</th><th scope=col>HighChol</th><th scope=col>CholCheck</th><th scope=col>Stroke</th><th scope=col>HeartDiseaseorAttack</th><th scope=col>HvyAlcoholConsump</th></tr>\n",
       "\t<tr><th></th><th scope=col>&lt;dbl&gt;</th><th scope=col>&lt;dbl&gt;</th><th scope=col>&lt;dbl&gt;</th><th scope=col>&lt;dbl&gt;</th><th scope=col>&lt;dbl&gt;</th><th scope=col>&lt;dbl&gt;</th><th scope=col>&lt;dbl&gt;</th><th scope=col>&lt;dbl&gt;</th><th scope=col>&lt;dbl&gt;</th></tr>\n",
       "</thead>\n",
       "<tbody>\n",
       "\t<tr><th scope=row>1</th><td>2</td><td>30</td><td>1</td><td>1</td><td>1</td><td>1</td><td>0</td><td>1</td><td>0</td></tr>\n",
       "\t<tr><th scope=row>2</th><td>2</td><td>25</td><td>1</td><td>0</td><td>0</td><td>1</td><td>0</td><td>0</td><td>0</td></tr>\n",
       "\t<tr><th scope=row>3</th><td>2</td><td>28</td><td>0</td><td>1</td><td>1</td><td>1</td><td>0</td><td>0</td><td>0</td></tr>\n",
       "\t<tr><th scope=row>4</th><td>2</td><td>23</td><td>1</td><td>0</td><td>0</td><td>1</td><td>0</td><td>0</td><td>0</td></tr>\n",
       "\t<tr><th scope=row>5</th><td>2</td><td>27</td><td>0</td><td>1</td><td>0</td><td>1</td><td>0</td><td>0</td><td>0</td></tr>\n",
       "\t<tr><th scope=row>6</th><td>2</td><td>37</td><td>1</td><td>1</td><td>1</td><td>1</td><td>1</td><td>1</td><td>0</td></tr>\n",
       "</tbody>\n",
       "</table>\n"
      ],
      "text/latex": [
       "A data.frame: 6 × 9\n",
       "\\begin{tabular}{r|lllllllll}\n",
       "  & Diabetes\\_012 & BMI & Smoker & HighBP & HighChol & CholCheck & Stroke & HeartDiseaseorAttack & HvyAlcoholConsump\\\\\n",
       "  & <dbl> & <dbl> & <dbl> & <dbl> & <dbl> & <dbl> & <dbl> & <dbl> & <dbl>\\\\\n",
       "\\hline\n",
       "\t1 & 2 & 30 & 1 & 1 & 1 & 1 & 0 & 1 & 0\\\\\n",
       "\t2 & 2 & 25 & 1 & 0 & 0 & 1 & 0 & 0 & 0\\\\\n",
       "\t3 & 2 & 28 & 0 & 1 & 1 & 1 & 0 & 0 & 0\\\\\n",
       "\t4 & 2 & 23 & 1 & 0 & 0 & 1 & 0 & 0 & 0\\\\\n",
       "\t5 & 2 & 27 & 0 & 1 & 0 & 1 & 0 & 0 & 0\\\\\n",
       "\t6 & 2 & 37 & 1 & 1 & 1 & 1 & 1 & 1 & 0\\\\\n",
       "\\end{tabular}\n"
      ],
      "text/markdown": [
       "\n",
       "A data.frame: 6 × 9\n",
       "\n",
       "| <!--/--> | Diabetes_012 &lt;dbl&gt; | BMI &lt;dbl&gt; | Smoker &lt;dbl&gt; | HighBP &lt;dbl&gt; | HighChol &lt;dbl&gt; | CholCheck &lt;dbl&gt; | Stroke &lt;dbl&gt; | HeartDiseaseorAttack &lt;dbl&gt; | HvyAlcoholConsump &lt;dbl&gt; |\n",
       "|---|---|---|---|---|---|---|---|---|---|\n",
       "| 1 | 2 | 30 | 1 | 1 | 1 | 1 | 0 | 1 | 0 |\n",
       "| 2 | 2 | 25 | 1 | 0 | 0 | 1 | 0 | 0 | 0 |\n",
       "| 3 | 2 | 28 | 0 | 1 | 1 | 1 | 0 | 0 | 0 |\n",
       "| 4 | 2 | 23 | 1 | 0 | 0 | 1 | 0 | 0 | 0 |\n",
       "| 5 | 2 | 27 | 0 | 1 | 0 | 1 | 0 | 0 | 0 |\n",
       "| 6 | 2 | 37 | 1 | 1 | 1 | 1 | 1 | 1 | 0 |\n",
       "\n"
      ],
      "text/plain": [
       "  Diabetes_012 BMI Smoker HighBP HighChol CholCheck Stroke HeartDiseaseorAttack\n",
       "1 2            30  1      1      1        1         0      1                   \n",
       "2 2            25  1      0      0        1         0      0                   \n",
       "3 2            28  0      1      1        1         0      0                   \n",
       "4 2            23  1      0      0        1         0      0                   \n",
       "5 2            27  0      1      0        1         0      0                   \n",
       "6 2            37  1      1      1        1         1      1                   \n",
       "  HvyAlcoholConsump\n",
       "1 0                \n",
       "2 0                \n",
       "3 0                \n",
       "4 0                \n",
       "5 0                \n",
       "6 0                "
      ]
     },
     "metadata": {},
     "output_type": "display_data"
    }
   ],
   "source": [
    "diabetes <- diabetes %>%\n",
    "   filter(Diabetes_012  == 2) %>%\n",
    "   select(Diabetes_012, BMI, Smoker, HighBP, HighChol, CholCheck,Stroke, HeartDiseaseorAttack,HvyAlcoholConsump)\n",
    "head(diabetes)"
   ]
  },
  {
   "cell_type": "code",
   "execution_count": 26,
   "id": "6fce842b-5d7f-49d9-95b6-ff70ec8e1324",
   "metadata": {
    "tags": []
   },
   "outputs": [
    {
     "data": {
      "text/html": [
       "<table class=\"dataframe\">\n",
       "<caption>A data.frame: 6 × 7</caption>\n",
       "<thead>\n",
       "\t<tr><th></th><th scope=col>Smoker</th><th scope=col>HighBP</th><th scope=col>HighChol</th><th scope=col>CholCheck</th><th scope=col>Stroke</th><th scope=col>HeartDiseaseorAttack</th><th scope=col>HvyAlcoholConsump</th></tr>\n",
       "\t<tr><th></th><th scope=col>&lt;dbl&gt;</th><th scope=col>&lt;dbl&gt;</th><th scope=col>&lt;dbl&gt;</th><th scope=col>&lt;dbl&gt;</th><th scope=col>&lt;dbl&gt;</th><th scope=col>&lt;dbl&gt;</th><th scope=col>&lt;dbl&gt;</th></tr>\n",
       "</thead>\n",
       "<tbody>\n",
       "\t<tr><th scope=row>1</th><td>1</td><td>1</td><td>1</td><td>1</td><td>0</td><td>1</td><td>0</td></tr>\n",
       "\t<tr><th scope=row>2</th><td>1</td><td>0</td><td>0</td><td>1</td><td>0</td><td>0</td><td>0</td></tr>\n",
       "\t<tr><th scope=row>3</th><td>0</td><td>1</td><td>1</td><td>1</td><td>0</td><td>0</td><td>0</td></tr>\n",
       "\t<tr><th scope=row>4</th><td>1</td><td>0</td><td>0</td><td>1</td><td>0</td><td>0</td><td>0</td></tr>\n",
       "\t<tr><th scope=row>5</th><td>0</td><td>1</td><td>0</td><td>1</td><td>0</td><td>0</td><td>0</td></tr>\n",
       "\t<tr><th scope=row>6</th><td>1</td><td>1</td><td>1</td><td>1</td><td>1</td><td>1</td><td>0</td></tr>\n",
       "</tbody>\n",
       "</table>\n"
      ],
      "text/latex": [
       "A data.frame: 6 × 7\n",
       "\\begin{tabular}{r|lllllll}\n",
       "  & Smoker & HighBP & HighChol & CholCheck & Stroke & HeartDiseaseorAttack & HvyAlcoholConsump\\\\\n",
       "  & <dbl> & <dbl> & <dbl> & <dbl> & <dbl> & <dbl> & <dbl>\\\\\n",
       "\\hline\n",
       "\t1 & 1 & 1 & 1 & 1 & 0 & 1 & 0\\\\\n",
       "\t2 & 1 & 0 & 0 & 1 & 0 & 0 & 0\\\\\n",
       "\t3 & 0 & 1 & 1 & 1 & 0 & 0 & 0\\\\\n",
       "\t4 & 1 & 0 & 0 & 1 & 0 & 0 & 0\\\\\n",
       "\t5 & 0 & 1 & 0 & 1 & 0 & 0 & 0\\\\\n",
       "\t6 & 1 & 1 & 1 & 1 & 1 & 1 & 0\\\\\n",
       "\\end{tabular}\n"
      ],
      "text/markdown": [
       "\n",
       "A data.frame: 6 × 7\n",
       "\n",
       "| <!--/--> | Smoker &lt;dbl&gt; | HighBP &lt;dbl&gt; | HighChol &lt;dbl&gt; | CholCheck &lt;dbl&gt; | Stroke &lt;dbl&gt; | HeartDiseaseorAttack &lt;dbl&gt; | HvyAlcoholConsump &lt;dbl&gt; |\n",
       "|---|---|---|---|---|---|---|---|\n",
       "| 1 | 1 | 1 | 1 | 1 | 0 | 1 | 0 |\n",
       "| 2 | 1 | 0 | 0 | 1 | 0 | 0 | 0 |\n",
       "| 3 | 0 | 1 | 1 | 1 | 0 | 0 | 0 |\n",
       "| 4 | 1 | 0 | 0 | 1 | 0 | 0 | 0 |\n",
       "| 5 | 0 | 1 | 0 | 1 | 0 | 0 | 0 |\n",
       "| 6 | 1 | 1 | 1 | 1 | 1 | 1 | 0 |\n",
       "\n"
      ],
      "text/plain": [
       "  Smoker HighBP HighChol CholCheck Stroke HeartDiseaseorAttack\n",
       "1 1      1      1        1         0      1                   \n",
       "2 1      0      0        1         0      0                   \n",
       "3 0      1      1        1         0      0                   \n",
       "4 1      0      0        1         0      0                   \n",
       "5 0      1      0        1         0      0                   \n",
       "6 1      1      1        1         1      1                   \n",
       "  HvyAlcoholConsump\n",
       "1 0                \n",
       "2 0                \n",
       "3 0                \n",
       "4 0                \n",
       "5 0                \n",
       "6 0                "
      ]
     },
     "metadata": {},
     "output_type": "display_data"
    }
   ],
   "source": [
    "diabetes_Smoker <- diabetes %>%\n",
    "   select(-Diabetes_012,-BMI)\n",
    "head(diabetes_Smoker)"
   ]
  },
  {
   "cell_type": "markdown",
   "id": "634f4f02-7b1a-4e02-9d8b-1964bc1d6bd3",
   "metadata": {},
   "source": [
    "### Step 2: Calculate the between strata variation for each kind of strata"
   ]
  },
  {
   "cell_type": "code",
   "execution_count": 27,
   "id": "93599079-4133-4164-b747-f7c37a1281a8",
   "metadata": {
    "tags": []
   },
   "outputs": [
    {
     "data": {
      "text/html": [
       "0.518219883438013"
      ],
      "text/latex": [
       "0.518219883438013"
      ],
      "text/markdown": [
       "0.518219883438013"
      ],
      "text/plain": [
       "[1] 0.5182199"
      ]
     },
     "metadata": {},
     "output_type": "display_data"
    }
   ],
   "source": [
    "# Calculate the number of smokers in the dataset\n",
    "pop_smoker <- diabetes_Smoker %>%\n",
    "   filter(Smoker == \"1\") |>\n",
    "   nrow()\n",
    "# Total number of individuals in the dataset\n",
    "total_population <- nrow(diabetes_Smoker)\n",
    "\n",
    "# Calculate the proportion of smokers in the population\n",
    "prop_smoker <- pop_smoker / total_population\n",
    "prop_smoker\n"
   ]
  },
  {
   "cell_type": "code",
   "execution_count": 28,
   "id": "5bd7fb41-5e68-4de9-9c55-9427da80f74b",
   "metadata": {
    "tags": []
   },
   "outputs": [
    {
     "data": {
      "text/html": [
       "0.249675099591623"
      ],
      "text/latex": [
       "0.249675099591623"
      ],
      "text/markdown": [
       "0.249675099591623"
      ],
      "text/plain": [
       "[1] 0.2496751"
      ]
     },
     "metadata": {},
     "output_type": "display_data"
    },
    {
     "data": {
      "text/html": [
       "35346"
      ],
      "text/latex": [
       "35346"
      ],
      "text/markdown": [
       "35346"
      ],
      "text/plain": [
       "[1] 35346"
      ]
     },
     "metadata": {},
     "output_type": "display_data"
    }
   ],
   "source": [
    "# Calculating the population variance of smokers\n",
    "population_variance <- var(diabetes_Smoker$Smoker)\n",
    "population_variance\n",
    "N <- nrow(diabetes_Smoker)\n",
    "N"
   ]
  },
  {
   "cell_type": "markdown",
   "id": "0055b611-9072-42df-93cb-c7f4c047d4ed",
   "metadata": {},
   "source": [
    "#### between strata variation for HighBP"
   ]
  },
  {
   "cell_type": "code",
   "execution_count": 29,
   "id": "8a519394-a0e2-4b9b-832a-867e24ef9567",
   "metadata": {
    "tags": []
   },
   "outputs": [
    {
     "data": {
      "text/html": [
       "<style>\n",
       ".dl-inline {width: auto; margin:0; padding: 0}\n",
       ".dl-inline>dt, .dl-inline>dd {float: none; width: auto; display: inline-block}\n",
       ".dl-inline>dt::after {content: \":\\0020\"; padding-right: .5ex}\n",
       ".dl-inline>dt:not(:first-of-type) {padding-left: .5ex}\n",
       "</style><dl class=dl-inline><dt>0</dt><dd>8742</dd><dt>1</dt><dd>26604</dd></dl>\n"
      ],
      "text/latex": [
       "\\begin{description*}\n",
       "\\item[0] 8742\n",
       "\\item[1] 26604\n",
       "\\end{description*}\n"
      ],
      "text/markdown": [
       "0\n",
       ":   87421\n",
       ":   26604\n",
       "\n"
      ],
      "text/plain": [
       "    0     1 \n",
       " 8742 26604 "
      ]
     },
     "metadata": {},
     "output_type": "display_data"
    },
    {
     "data": {
      "text/html": [
       "<style>\n",
       ".dl-inline {width: auto; margin:0; padding: 0}\n",
       ".dl-inline>dt, .dl-inline>dd {float: none; width: auto; display: inline-block}\n",
       ".dl-inline>dt::after {content: \":\\0020\"; padding-right: .5ex}\n",
       ".dl-inline>dt:not(:first-of-type) {padding-left: .5ex}\n",
       "</style><dl class=dl-inline><dt>0</dt><dd>0.247326430147683</dd><dt>1</dt><dd>0.752673569852317</dd></dl>\n"
      ],
      "text/latex": [
       "\\begin{description*}\n",
       "\\item[0] 0.247326430147683\n",
       "\\item[1] 0.752673569852317\n",
       "\\end{description*}\n"
      ],
      "text/markdown": [
       "0\n",
       ":   0.2473264301476831\n",
       ":   0.752673569852317\n",
       "\n"
      ],
      "text/plain": [
       "        0         1 \n",
       "0.2473264 0.7526736 "
      ]
     },
     "metadata": {},
     "output_type": "display_data"
    }
   ],
   "source": [
    "#population size for people get HighBP or not\n",
    "N.h_HighBP <- tapply(diabetes_Smoker$HighBP, diabetes_Smoker$HighBP, FUN = length)\n",
    "N.h_HighBP\n",
    "#Nh/N\n",
    "Nh_divide_N_HighBP <- N.h_HighBP/N\n",
    "Nh_divide_N_HighBP"
   ]
  },
  {
   "cell_type": "code",
   "execution_count": 30,
   "id": "16a50cdb-e6a9-4526-be09-c58011819692",
   "metadata": {
    "tags": []
   },
   "outputs": [
    {
     "data": {
      "text/html": [
       "0.000107717081812245"
      ],
      "text/latex": [
       "0.000107717081812245"
      ],
      "text/markdown": [
       "0.000107717081812245"
      ],
      "text/plain": [
       "[1] 0.0001077171"
      ]
     },
     "metadata": {},
     "output_type": "display_data"
    }
   ],
   "source": [
    "# get the variance between strata in HighBP(s^2pb)\n",
    "spb_step1_HighBP <- diabetes_Smoker|>\n",
    "   group_by(HighBP) |>\n",
    "   summarize(partial_spb = (mean(Smoker)-prop_smoker)^2)\n",
    "spb_step2_HighBP <- Nh_divide_N_HighBP * spb_step1_HighBP$partial_spb\n",
    "spb_HighBP <- sum(spb_step2_HighBP)\n",
    "spb_HighBP"
   ]
  },
  {
   "cell_type": "markdown",
   "id": "7a3b940f-92b2-44be-a633-4418c0fcf5ab",
   "metadata": {},
   "source": [
    "#### between strata variation for HighChol"
   ]
  },
  {
   "cell_type": "code",
   "execution_count": 31,
   "id": "ef43de90-85bc-4387-82a8-87bd582095ff",
   "metadata": {
    "tags": []
   },
   "outputs": [
    {
     "data": {
      "text/html": [
       "<style>\n",
       ".dl-inline {width: auto; margin:0; padding: 0}\n",
       ".dl-inline>dt, .dl-inline>dd {float: none; width: auto; display: inline-block}\n",
       ".dl-inline>dt::after {content: \":\\0020\"; padding-right: .5ex}\n",
       ".dl-inline>dt:not(:first-of-type) {padding-left: .5ex}\n",
       "</style><dl class=dl-inline><dt>0</dt><dd>11660</dd><dt>1</dt><dd>23686</dd></dl>\n"
      ],
      "text/latex": [
       "\\begin{description*}\n",
       "\\item[0] 11660\n",
       "\\item[1] 23686\n",
       "\\end{description*}\n"
      ],
      "text/markdown": [
       "0\n",
       ":   116601\n",
       ":   23686\n",
       "\n"
      ],
      "text/plain": [
       "    0     1 \n",
       "11660 23686 "
      ]
     },
     "metadata": {},
     "output_type": "display_data"
    },
    {
     "data": {
      "text/html": [
       "<style>\n",
       ".dl-inline {width: auto; margin:0; padding: 0}\n",
       ".dl-inline>dt, .dl-inline>dd {float: none; width: auto; display: inline-block}\n",
       ".dl-inline>dt::after {content: \":\\0020\"; padding-right: .5ex}\n",
       ".dl-inline>dt:not(:first-of-type) {padding-left: .5ex}\n",
       "</style><dl class=dl-inline><dt>0</dt><dd>0.32988174050812</dd><dt>1</dt><dd>0.67011825949188</dd></dl>\n"
      ],
      "text/latex": [
       "\\begin{description*}\n",
       "\\item[0] 0.32988174050812\n",
       "\\item[1] 0.67011825949188\n",
       "\\end{description*}\n"
      ],
      "text/markdown": [
       "0\n",
       ":   0.329881740508121\n",
       ":   0.67011825949188\n",
       "\n"
      ],
      "text/plain": [
       "        0         1 \n",
       "0.3298817 0.6701183 "
      ]
     },
     "metadata": {},
     "output_type": "display_data"
    }
   ],
   "source": [
    "#population size for people get HighChol or not\n",
    "N.h_HighChol <- tapply(diabetes_Smoker$HighChol, diabetes_Smoker$HighChol, FUN = length)\n",
    "N.h_HighChol\n",
    "#Nh/N\n",
    "Nh_divide_N_HighChol <- N.h_HighChol/N\n",
    "Nh_divide_N_HighChol"
   ]
  },
  {
   "cell_type": "code",
   "execution_count": 32,
   "id": "00e32fdf-91bb-4ed8-a778-06a3eccf80b1",
   "metadata": {
    "tags": []
   },
   "outputs": [
    {
     "data": {
      "text/html": [
       "0.00093236442822172"
      ],
      "text/latex": [
       "0.00093236442822172"
      ],
      "text/markdown": [
       "0.00093236442822172"
      ],
      "text/plain": [
       "[1] 0.0009323644"
      ]
     },
     "metadata": {},
     "output_type": "display_data"
    }
   ],
   "source": [
    "# get the variance between strata in HighChol(s^2pb)\n",
    "spb_step1_HighChol <- diabetes_Smoker|>\n",
    "   group_by(HighChol) |>\n",
    "   summarize(partial_spb = (mean(Smoker)-prop_smoker)^2)\n",
    "spb_step2_HighChol <- Nh_divide_N_HighChol * spb_step1_HighChol$partial_spb\n",
    "spb_HighChol <- sum(spb_step2_HighChol)\n",
    "spb_HighChol"
   ]
  },
  {
   "cell_type": "markdown",
   "id": "c13dec0f-e147-475c-b841-a9ea3368befd",
   "metadata": {},
   "source": [
    "#### between strata variation for CholCheck"
   ]
  },
  {
   "cell_type": "code",
   "execution_count": 33,
   "id": "12b2cc18-558b-4f4e-864b-5e4714c71d8d",
   "metadata": {
    "tags": []
   },
   "outputs": [
    {
     "data": {
      "text/html": [
       "<style>\n",
       ".dl-inline {width: auto; margin:0; padding: 0}\n",
       ".dl-inline>dt, .dl-inline>dd {float: none; width: auto; display: inline-block}\n",
       ".dl-inline>dt::after {content: \":\\0020\"; padding-right: .5ex}\n",
       ".dl-inline>dt:not(:first-of-type) {padding-left: .5ex}\n",
       "</style><dl class=dl-inline><dt>0</dt><dd>241</dd><dt>1</dt><dd>35105</dd></dl>\n"
      ],
      "text/latex": [
       "\\begin{description*}\n",
       "\\item[0] 241\n",
       "\\item[1] 35105\n",
       "\\end{description*}\n"
      ],
      "text/markdown": [
       "0\n",
       ":   2411\n",
       ":   35105\n",
       "\n"
      ],
      "text/plain": [
       "    0     1 \n",
       "  241 35105 "
      ]
     },
     "metadata": {},
     "output_type": "display_data"
    },
    {
     "data": {
      "text/html": [
       "<style>\n",
       ".dl-inline {width: auto; margin:0; padding: 0}\n",
       ".dl-inline>dt, .dl-inline>dd {float: none; width: auto; display: inline-block}\n",
       ".dl-inline>dt::after {content: \":\\0020\"; padding-right: .5ex}\n",
       ".dl-inline>dt:not(:first-of-type) {padding-left: .5ex}\n",
       "</style><dl class=dl-inline><dt>0</dt><dd>0.00681831041702031</dd><dt>1</dt><dd>0.99318168958298</dd></dl>\n"
      ],
      "text/latex": [
       "\\begin{description*}\n",
       "\\item[0] 0.00681831041702031\n",
       "\\item[1] 0.99318168958298\n",
       "\\end{description*}\n"
      ],
      "text/markdown": [
       "0\n",
       ":   0.006818310417020311\n",
       ":   0.99318168958298\n",
       "\n"
      ],
      "text/plain": [
       "         0          1 \n",
       "0.00681831 0.99318169 "
      ]
     },
     "metadata": {},
     "output_type": "display_data"
    },
    {
     "data": {
      "text/html": [
       "4.7796409990131e-05"
      ],
      "text/latex": [
       "4.7796409990131e-05"
      ],
      "text/markdown": [
       "4.7796409990131e-05"
      ],
      "text/plain": [
       "[1] 4.779641e-05"
      ]
     },
     "metadata": {},
     "output_type": "display_data"
    }
   ],
   "source": [
    "#population size for people get CholCheck or not\n",
    "N.h_CholCheck <- tapply(diabetes_Smoker$CholCheck, diabetes_Smoker$CholCheck, FUN = length)\n",
    "N.h_CholCheck\n",
    "#Nh/N\n",
    "Nh_divide_N_CholCheck <- N.h_CholCheck/N\n",
    "Nh_divide_N_CholCheck\n",
    "\n",
    "\n",
    "# get the variance between strata in CholCheck(s^2pb)\n",
    "spb_step1_CholCheck <- diabetes_Smoker|>\n",
    "   group_by(CholCheck) |>\n",
    "   summarize(partial_spb = (mean(Smoker)-prop_smoker)^2)\n",
    "spb_step2_CholCheck <- Nh_divide_N_CholCheck * spb_step1_CholCheck$partial_spb\n",
    "spb_CholCheck <- sum(spb_step2_CholCheck)\n",
    "spb_CholCheck"
   ]
  },
  {
   "cell_type": "markdown",
   "id": "8a7bfb4c-a047-4a2a-a8a7-92173249f37c",
   "metadata": {},
   "source": [
    "#### between strata variation for Stroke"
   ]
  },
  {
   "cell_type": "code",
   "execution_count": 34,
   "id": "1543dced-4ff4-4ad4-aef8-1c279c9736e0",
   "metadata": {
    "tags": []
   },
   "outputs": [
    {
     "data": {
      "text/html": [
       "<style>\n",
       ".dl-inline {width: auto; margin:0; padding: 0}\n",
       ".dl-inline>dt, .dl-inline>dd {float: none; width: auto; display: inline-block}\n",
       ".dl-inline>dt::after {content: \":\\0020\"; padding-right: .5ex}\n",
       ".dl-inline>dt:not(:first-of-type) {padding-left: .5ex}\n",
       "</style><dl class=dl-inline><dt>0</dt><dd>32078</dd><dt>1</dt><dd>3268</dd></dl>\n"
      ],
      "text/latex": [
       "\\begin{description*}\n",
       "\\item[0] 32078\n",
       "\\item[1] 3268\n",
       "\\end{description*}\n"
      ],
      "text/markdown": [
       "0\n",
       ":   320781\n",
       ":   3268\n",
       "\n"
      ],
      "text/plain": [
       "    0     1 \n",
       "32078  3268 "
      ]
     },
     "metadata": {},
     "output_type": "display_data"
    },
    {
     "data": {
      "text/html": [
       "<style>\n",
       ".dl-inline {width: auto; margin:0; padding: 0}\n",
       ".dl-inline>dt, .dl-inline>dd {float: none; width: auto; display: inline-block}\n",
       ".dl-inline>dt::after {content: \":\\0020\"; padding-right: .5ex}\n",
       ".dl-inline>dt:not(:first-of-type) {padding-left: .5ex}\n",
       "</style><dl class=dl-inline><dt>0</dt><dd>0.907542579075426</dd><dt>1</dt><dd>0.0924574209245742</dd></dl>\n"
      ],
      "text/latex": [
       "\\begin{description*}\n",
       "\\item[0] 0.907542579075426\n",
       "\\item[1] 0.0924574209245742\n",
       "\\end{description*}\n"
      ],
      "text/markdown": [
       "0\n",
       ":   0.9075425790754261\n",
       ":   0.0924574209245742\n",
       "\n"
      ],
      "text/plain": [
       "         0          1 \n",
       "0.90754258 0.09245742 "
      ]
     },
     "metadata": {},
     "output_type": "display_data"
    },
    {
     "data": {
      "text/html": [
       "0.000546974739775674"
      ],
      "text/latex": [
       "0.000546974739775674"
      ],
      "text/markdown": [
       "0.000546974739775674"
      ],
      "text/plain": [
       "[1] 0.0005469747"
      ]
     },
     "metadata": {},
     "output_type": "display_data"
    }
   ],
   "source": [
    "#population size for people get Stroke or not\n",
    "N.h_Stroke <- tapply(diabetes_Smoker$Stroke, diabetes_Smoker$Stroke, FUN = length)\n",
    "N.h_Stroke\n",
    "#Nh/N\n",
    "Nh_divide_N_Stroke <- N.h_Stroke/N\n",
    "Nh_divide_N_Stroke\n",
    "\n",
    "\n",
    "# get the variance between strata in Stroke(s^2pb)\n",
    "spb_step1_Stroke <- diabetes_Smoker|>\n",
    "   group_by(Stroke) |>\n",
    "   summarize(partial_spb = (mean(Smoker)-prop_smoker)^2)\n",
    "spb_step2_Stroke <- Nh_divide_N_Stroke * spb_step1_Stroke$partial_spb\n",
    "spb_Stroke <- sum(spb_step2_Stroke)\n",
    "spb_Stroke"
   ]
  },
  {
   "cell_type": "markdown",
   "id": "67657f94-6ea2-4407-a7a5-ccc756a3bb52",
   "metadata": {},
   "source": [
    "#### between strata variation for HeartDiseaseorAttack"
   ]
  },
  {
   "cell_type": "code",
   "execution_count": 35,
   "id": "7776c722-f1eb-4ea3-8245-7c3cb19fe584",
   "metadata": {
    "tags": []
   },
   "outputs": [
    {
     "data": {
      "text/html": [
       "<style>\n",
       ".dl-inline {width: auto; margin:0; padding: 0}\n",
       ".dl-inline>dt, .dl-inline>dd {float: none; width: auto; display: inline-block}\n",
       ".dl-inline>dt::after {content: \":\\0020\"; padding-right: .5ex}\n",
       ".dl-inline>dt:not(:first-of-type) {padding-left: .5ex}\n",
       "</style><dl class=dl-inline><dt>0</dt><dd>27468</dd><dt>1</dt><dd>7878</dd></dl>\n"
      ],
      "text/latex": [
       "\\begin{description*}\n",
       "\\item[0] 27468\n",
       "\\item[1] 7878\n",
       "\\end{description*}\n"
      ],
      "text/markdown": [
       "0\n",
       ":   274681\n",
       ":   7878\n",
       "\n"
      ],
      "text/plain": [
       "    0     1 \n",
       "27468  7878 "
      ]
     },
     "metadata": {},
     "output_type": "display_data"
    },
    {
     "data": {
      "text/html": [
       "<style>\n",
       ".dl-inline {width: auto; margin:0; padding: 0}\n",
       ".dl-inline>dt, .dl-inline>dd {float: none; width: auto; display: inline-block}\n",
       ".dl-inline>dt::after {content: \":\\0020\"; padding-right: .5ex}\n",
       ".dl-inline>dt:not(:first-of-type) {padding-left: .5ex}\n",
       "</style><dl class=dl-inline><dt>0</dt><dd>0.777117637073502</dd><dt>1</dt><dd>0.222882362926498</dd></dl>\n"
      ],
      "text/latex": [
       "\\begin{description*}\n",
       "\\item[0] 0.777117637073502\n",
       "\\item[1] 0.222882362926498\n",
       "\\end{description*}\n"
      ],
      "text/markdown": [
       "0\n",
       ":   0.7771176370735021\n",
       ":   0.222882362926498\n",
       "\n"
      ],
      "text/plain": [
       "        0         1 \n",
       "0.7771176 0.2228824 "
      ]
     },
     "metadata": {},
     "output_type": "display_data"
    },
    {
     "data": {
      "text/html": [
       "0.00330329208279886"
      ],
      "text/latex": [
       "0.00330329208279886"
      ],
      "text/markdown": [
       "0.00330329208279886"
      ],
      "text/plain": [
       "[1] 0.003303292"
      ]
     },
     "metadata": {},
     "output_type": "display_data"
    }
   ],
   "source": [
    "#population size for people get HeartDiseaseorAttack or not\n",
    "N.h_HeartDiseaseorAttack <- tapply(diabetes_Smoker$HeartDiseaseorAttack, diabetes_Smoker$HeartDiseaseorAttack, FUN = length)\n",
    "N.h_HeartDiseaseorAttack\n",
    "#Nh/N\n",
    "Nh_divide_N_HeartDiseaseorAttack <- N.h_HeartDiseaseorAttack/N\n",
    "Nh_divide_N_HeartDiseaseorAttack\n",
    "\n",
    "\n",
    "# get the variance between strata in HeartDiseaseorAttack(s^2pb)\n",
    "spb_step1_HeartDiseaseorAttack <- diabetes_Smoker|>\n",
    "   group_by(HeartDiseaseorAttack) |>\n",
    "   summarize(partial_spb = (mean(Smoker)-prop_smoker)^2)\n",
    "spb_step2_HeartDiseaseorAttack <- Nh_divide_N_HeartDiseaseorAttack * spb_step1_HeartDiseaseorAttack$partial_spb\n",
    "spb_HeartDiseaseorAttack <- sum(spb_step2_HeartDiseaseorAttack)\n",
    "spb_HeartDiseaseorAttack"
   ]
  },
  {
   "cell_type": "markdown",
   "id": "2dbafa55-9b83-4991-9c43-7b77dd84d4f6",
   "metadata": {},
   "source": [
    "#### between strata variation for HvyAlcoholConsump"
   ]
  },
  {
   "cell_type": "code",
   "execution_count": 36,
   "id": "7c685b16-caf2-4daf-8faa-569f31ab3458",
   "metadata": {
    "tags": []
   },
   "outputs": [
    {
     "data": {
      "text/html": [
       "<style>\n",
       ".dl-inline {width: auto; margin:0; padding: 0}\n",
       ".dl-inline>dt, .dl-inline>dd {float: none; width: auto; display: inline-block}\n",
       ".dl-inline>dt::after {content: \":\\0020\"; padding-right: .5ex}\n",
       ".dl-inline>dt:not(:first-of-type) {padding-left: .5ex}\n",
       "</style><dl class=dl-inline><dt>0</dt><dd>34514</dd><dt>1</dt><dd>832</dd></dl>\n"
      ],
      "text/latex": [
       "\\begin{description*}\n",
       "\\item[0] 34514\n",
       "\\item[1] 832\n",
       "\\end{description*}\n"
      ],
      "text/markdown": [
       "0\n",
       ":   345141\n",
       ":   832\n",
       "\n"
      ],
      "text/plain": [
       "    0     1 \n",
       "34514   832 "
      ]
     },
     "metadata": {},
     "output_type": "display_data"
    },
    {
     "data": {
      "text/html": [
       "<style>\n",
       ".dl-inline {width: auto; margin:0; padding: 0}\n",
       ".dl-inline>dt, .dl-inline>dd {float: none; width: auto; display: inline-block}\n",
       ".dl-inline>dt::after {content: \":\\0020\"; padding-right: .5ex}\n",
       ".dl-inline>dt:not(:first-of-type) {padding-left: .5ex}\n",
       "</style><dl class=dl-inline><dt>0</dt><dd>0.976461268601822</dd><dt>1</dt><dd>0.023538731398178</dd></dl>\n"
      ],
      "text/latex": [
       "\\begin{description*}\n",
       "\\item[0] 0.976461268601822\n",
       "\\item[1] 0.023538731398178\n",
       "\\end{description*}\n"
      ],
      "text/markdown": [
       "0\n",
       ":   0.9764612686018221\n",
       ":   0.023538731398178\n",
       "\n"
      ],
      "text/plain": [
       "         0          1 \n",
       "0.97646127 0.02353873 "
      ]
     },
     "metadata": {},
     "output_type": "display_data"
    },
    {
     "data": {
      "text/html": [
       "0.00122874687303603"
      ],
      "text/latex": [
       "0.00122874687303603"
      ],
      "text/markdown": [
       "0.00122874687303603"
      ],
      "text/plain": [
       "[1] 0.001228747"
      ]
     },
     "metadata": {},
     "output_type": "display_data"
    }
   ],
   "source": [
    "#population size for people get HeartDiseaseorAttack or not\n",
    "N.h_HvyAlcoholConsump <- tapply(diabetes_Smoker$HvyAlcoholConsump, diabetes_Smoker$HvyAlcoholConsump, FUN = length)\n",
    "N.h_HvyAlcoholConsump\n",
    "#Nh/N\n",
    "Nh_divide_N_HvyAlcoholConsump <- N.h_HvyAlcoholConsump/N\n",
    "Nh_divide_N_HvyAlcoholConsump\n",
    "\n",
    "\n",
    "# get the variance between strata in HeartDiseaseorAttack(s^2pb)\n",
    "spb_step1_HvyAlcoholConsump <- diabetes_Smoker|>\n",
    "   group_by(HvyAlcoholConsump) |>\n",
    "   summarize(partial_spb = (mean(Smoker)-prop_smoker)^2)\n",
    "spb_step2_HvyAlcoholConsump <- Nh_divide_N_HvyAlcoholConsump * spb_step1_HvyAlcoholConsump$partial_spb\n",
    "spb_HvyAlcoholConsump <- sum(spb_step2_HvyAlcoholConsump)\n",
    "spb_HvyAlcoholConsump"
   ]
  },
  {
   "cell_type": "code",
   "execution_count": 37,
   "id": "0136eacc-1590-4e2f-8d2e-aced4c853c0a",
   "metadata": {
    "tags": []
   },
   "outputs": [
    {
     "data": {
      "text/html": [
       "0.00330329208279886"
      ],
      "text/latex": [
       "0.00330329208279886"
      ],
      "text/markdown": [
       "0.00330329208279886"
      ],
      "text/plain": [
       "[1] 0.003303292"
      ]
     },
     "metadata": {},
     "output_type": "display_data"
    }
   ],
   "source": [
    "max(spb_HighBP,spb_HighChol,spb_CholCheck,spb_Stroke,spb_HeartDiseaseorAttack,spb_HvyAlcoholConsump)"
   ]
  },
  {
   "cell_type": "markdown",
   "id": "2de599a5-045a-44cd-9252-45ecb69be6cb",
   "metadata": {},
   "source": [
    "### between strata variation for HeartDiseaseorAttack has the highest value, so I choose it set the strata for my estimation."
   ]
  },
  {
   "cell_type": "markdown",
   "id": "9b41f9b3-43f5-4da0-a87c-2465006106c3",
   "metadata": {},
   "source": [
    "### Step 3 Clean the data agian"
   ]
  },
  {
   "cell_type": "code",
   "execution_count": 38,
   "id": "c178140f-e6a6-4237-a357-defa04a7c2df",
   "metadata": {
    "tags": []
   },
   "outputs": [
    {
     "data": {
      "text/html": [
       "<table class=\"dataframe\">\n",
       "<caption>A data.frame: 6 × 2</caption>\n",
       "<thead>\n",
       "\t<tr><th></th><th scope=col>Smoker</th><th scope=col>HeartDiseaseorAttack</th></tr>\n",
       "\t<tr><th></th><th scope=col>&lt;dbl&gt;</th><th scope=col>&lt;dbl&gt;</th></tr>\n",
       "</thead>\n",
       "<tbody>\n",
       "\t<tr><th scope=row>1</th><td>1</td><td>1</td></tr>\n",
       "\t<tr><th scope=row>2</th><td>1</td><td>0</td></tr>\n",
       "\t<tr><th scope=row>3</th><td>0</td><td>0</td></tr>\n",
       "\t<tr><th scope=row>4</th><td>1</td><td>0</td></tr>\n",
       "\t<tr><th scope=row>5</th><td>0</td><td>0</td></tr>\n",
       "\t<tr><th scope=row>6</th><td>1</td><td>1</td></tr>\n",
       "</tbody>\n",
       "</table>\n"
      ],
      "text/latex": [
       "A data.frame: 6 × 2\n",
       "\\begin{tabular}{r|ll}\n",
       "  & Smoker & HeartDiseaseorAttack\\\\\n",
       "  & <dbl> & <dbl>\\\\\n",
       "\\hline\n",
       "\t1 & 1 & 1\\\\\n",
       "\t2 & 1 & 0\\\\\n",
       "\t3 & 0 & 0\\\\\n",
       "\t4 & 1 & 0\\\\\n",
       "\t5 & 0 & 0\\\\\n",
       "\t6 & 1 & 1\\\\\n",
       "\\end{tabular}\n"
      ],
      "text/markdown": [
       "\n",
       "A data.frame: 6 × 2\n",
       "\n",
       "| <!--/--> | Smoker &lt;dbl&gt; | HeartDiseaseorAttack &lt;dbl&gt; |\n",
       "|---|---|---|\n",
       "| 1 | 1 | 1 |\n",
       "| 2 | 1 | 0 |\n",
       "| 3 | 0 | 0 |\n",
       "| 4 | 1 | 0 |\n",
       "| 5 | 0 | 0 |\n",
       "| 6 | 1 | 1 |\n",
       "\n"
      ],
      "text/plain": [
       "  Smoker HeartDiseaseorAttack\n",
       "1 1      1                   \n",
       "2 1      0                   \n",
       "3 0      0                   \n",
       "4 1      0                   \n",
       "5 0      0                   \n",
       "6 1      1                   "
      ]
     },
     "metadata": {},
     "output_type": "display_data"
    }
   ],
   "source": [
    "diabetes_Smoker_tidy <- diabetes_Smoker |>\n",
    "   select(Smoker,HeartDiseaseorAttack)\n",
    "head(diabetes_Smoker_tidy)"
   ]
  },
  {
   "cell_type": "markdown",
   "id": "9bbba2bf-46b5-4d59-9a13-1fab80ebd91f",
   "metadata": {},
   "source": [
    "### Step 4 Allocating for the sample size"
   ]
  },
  {
   "cell_type": "markdown",
   "id": "e54f9888-b71a-47a2-a476-00957bf38fca",
   "metadata": {},
   "source": [
    "##### 1.  Theorem: Assume the stratum sizes are large enough to ignore FPC. Then the choices of (n1, . . . , nH ) that minimize subject to a total budget constraint of n1c1 + . . . + nH cH = C ,satisfy:\n",
    "\n",
    "$$\n",
    "\\frac{n_{h}}{n}\\ = \\frac{N_{h}(s_{h,guess}/\\sqrt{c_{h}})} {\\sum_{k=1}^{H}N_{k}(s_{k,guess}/\\sqrt{c_{h}})}\n",
    "$$\n",
    "\n",
    "##### (and set n as budget allows), where ck is the cost of sampling nk units from stratum k and C is the total cost (fixed).\n",
    "##### since c is unknow, so assume c is equal, it can be cancel in the fraction"
   ]
  },
  {
   "cell_type": "code",
   "execution_count": 40,
   "id": "f6defb2c-48be-4504-94cf-a1c738aec777",
   "metadata": {
    "tags": []
   },
   "outputs": [
    {
     "data": {
      "text/html": [
       "379"
      ],
      "text/latex": [
       "379"
      ],
      "text/markdown": [
       "379"
      ],
      "text/plain": [
       "[1] 379"
      ]
     },
     "metadata": {},
     "output_type": "display_data"
    },
    {
     "data": {
      "text/html": [
       "27468"
      ],
      "text/latex": [
       "27468"
      ],
      "text/markdown": [
       "27468"
      ],
      "text/plain": [
       "[1] 27468"
      ]
     },
     "metadata": {},
     "output_type": "display_data"
    },
    {
     "data": {
      "text/html": [
       "7878"
      ],
      "text/latex": [
       "7878"
      ],
      "text/markdown": [
       "7878"
      ],
      "text/plain": [
       "[1] 7878"
      ]
     },
     "metadata": {},
     "output_type": "display_data"
    }
   ],
   "source": [
    "n <- 379 # total sample size \n",
    "n\n",
    "N1_Smoker <- N.h_HeartDiseaseorAttack[[\"0\"]]\n",
    "N2_Smoker <- N.h_HeartDiseaseorAttack[[\"1\"]]\n",
    "N1_Smoker\n",
    "N2_Smoker"
   ]
  },
  {
   "cell_type": "code",
   "execution_count": 41,
   "id": "690eb703-562b-4009-8f28-e0c8ff8d8378",
   "metadata": {
    "tags": []
   },
   "outputs": [
    {
     "data": {
      "text/html": [
       "0.499851318625806"
      ],
      "text/latex": [
       "0.499851318625806"
      ],
      "text/markdown": [
       "0.499851318625806"
      ],
      "text/plain": [
       "[1] 0.4998513"
      ]
     },
     "metadata": {},
     "output_type": "display_data"
    },
    {
     "data": {
      "text/html": [
       "0.484014025517476"
      ],
      "text/latex": [
       "0.484014025517476"
      ],
      "text/markdown": [
       "0.484014025517476"
      ],
      "text/plain": [
       "[1] 0.484014"
      ]
     },
     "metadata": {},
     "output_type": "display_data"
    }
   ],
   "source": [
    "# Calculate the standard deviation of BMI for HighBP = 0\n",
    "sd_N1_Smoker <- sd(subset(diabetes_Smoker_tidy$Smoker, diabetes_Smoker_tidy$HeartDiseaseorAttack == 0))\n",
    "# Display the standard deviation of BMI for HighBP = 0\n",
    "sd_N1_Smoker\n",
    "\n",
    "# Calculate the standard deviation of BMI for HighBP = 0\n",
    "sd_N2_Smoker <- sd(subset(diabetes_Smoker_tidy$Smoker, diabetes_Smoker_tidy$HeartDiseaseorAttack == 1))\n",
    "# Display the standard deviation of BMI for HighBP = 0\n",
    "sd_N2_Smoker\n"
   ]
  },
  {
   "cell_type": "code",
   "execution_count": 42,
   "id": "14ff4fec-c2ec-432b-ada9-0270eb5d4271",
   "metadata": {
    "tags": []
   },
   "outputs": [
    {
     "data": {
      "text/html": [
       "296.622273561877"
      ],
      "text/latex": [
       "296.622273561877"
      ],
      "text/markdown": [
       "296.622273561877"
      ],
      "text/plain": [
       "[1] 296.6223"
      ]
     },
     "metadata": {},
     "output_type": "display_data"
    },
    {
     "data": {
      "text/html": [
       "82.3777264381233"
      ],
      "text/latex": [
       "82.3777264381233"
      ],
      "text/markdown": [
       "82.3777264381233"
      ],
      "text/plain": [
       "[1] 82.37773"
      ]
     },
     "metadata": {},
     "output_type": "display_data"
    }
   ],
   "source": [
    "n1_Smoker <- (N1_Smoker*sd_N1_Smoker)/(N1_Smoker*sd_N1_Smoker+N2_Smoker*sd_N2_Smoker)*n\n",
    "\n",
    "n2_Smoker <- (N2_Smoker*sd_N2_Smoker)/(N1_Smoker*sd_N1_Smoker+N2_Smoker*sd_N2_Smoker)*n\n",
    "n1_Smoker\n",
    "n2_Smoker"
   ]
  },
  {
   "cell_type": "markdown",
   "id": "a2bc503a-ba7d-4c82-8ccf-a3436117deca",
   "metadata": {},
   "source": [
    "##### 2. proportion allocation"
   ]
  },
  {
   "cell_type": "code",
   "execution_count": 43,
   "id": "dfa3ebc9-fa65-4ca2-a035-2891b860390d",
   "metadata": {
    "tags": []
   },
   "outputs": [
    {
     "data": {
      "text/html": [
       "294.527584450857"
      ],
      "text/latex": [
       "294.527584450857"
      ],
      "text/markdown": [
       "294.527584450857"
      ],
      "text/plain": [
       "[1] 294.5276"
      ]
     },
     "metadata": {},
     "output_type": "display_data"
    },
    {
     "data": {
      "text/html": [
       "84.4724155491428"
      ],
      "text/latex": [
       "84.4724155491428"
      ],
      "text/markdown": [
       "84.4724155491428"
      ],
      "text/plain": [
       "[1] 84.47242"
      ]
     },
     "metadata": {},
     "output_type": "display_data"
    }
   ],
   "source": [
    "n1_Smoker1 <- N1_Smoker/N*n\n",
    "n2_Smoker1 <- N2_Smoker/N*n\n",
    "n1_Smoker1\n",
    "n2_Smoker1"
   ]
  },
  {
   "cell_type": "markdown",
   "id": "94446374-4ee2-46ff-a1d9-b00ebfd26d49",
   "metadata": {},
   "source": [
    "### since size of n1 and n2 get from two method is similar, so I choose n1 = 297 n2 = 82"
   ]
  },
  {
   "cell_type": "markdown",
   "id": "e764fbfe-55ec-47af-8500-f73fd50b5056",
   "metadata": {},
   "source": [
    "### Step 5 Do the sampling"
   ]
  },
  {
   "cell_type": "code",
   "execution_count": 48,
   "id": "b10893a8-d5a7-4054-80c9-1a4794993d9b",
   "metadata": {
    "tags": []
   },
   "outputs": [],
   "source": [
    "n.h <- c(297, 82)  # specify the sample size for each HighBP\n",
    "HeartDiseaseorAttack <- c(0, 1)  # Assuming you have two levels 0 and 1\n",
    "set.seed(0)\n",
    "STR.sample <- NULL\n",
    "# Loop over the HighBP\n",
    "for (i in 1:length(HeartDiseaseorAttack)) {\n",
    "# Get the row indices corresponding to a certain region, and save it to a variable\n",
    "  row.indices <- which(diabetes_Smoker_tidy$HeartDiseaseorAttack == HeartDiseaseorAttack[i])\n",
    "  \n",
    "  if (length(row.indices) >= n.h[i]) {\n",
    "# Sample the indices (you are getting an SRS of size nh from a stratum of size Nh)\n",
    "    sample.indices <- sample(row.indices, n.h[i], replace = FALSE)\n",
    "# Add the sample for this stratum to those from the previous strata\n",
    "    STR.sample <- rbind(STR.sample, diabetes_Smoker_tidy[sample.indices, ])\n",
    "  } else {\n",
    "# Handle case when the sample size is larger than the available data for a specific HighBP\n",
    "    print(paste(\"Not enough data for HighBP\", HeartDiseaseorAttack[i]))\n",
    "  }\n",
    "}\n"
   ]
  },
  {
   "cell_type": "markdown",
   "id": "e3571f2b-6a07-46cf-9f4d-11d56edac763",
   "metadata": {},
   "source": [
    "### Step 6 Get the estimate"
   ]
  },
  {
   "cell_type": "code",
   "execution_count": 49,
   "id": "0493f587-16b3-4843-974f-1e8c6b93f078",
   "metadata": {
    "tags": []
   },
   "outputs": [
    {
     "data": {
      "text/html": [
       "<table class=\"dataframe\">\n",
       "<caption>A data.frame: 6 × 2</caption>\n",
       "<thead>\n",
       "\t<tr><th></th><th scope=col>Smoker</th><th scope=col>HeartDiseaseorAttack</th></tr>\n",
       "\t<tr><th></th><th scope=col>&lt;dbl&gt;</th><th scope=col>&lt;dbl&gt;</th></tr>\n",
       "</thead>\n",
       "<tbody>\n",
       "\t<tr><th scope=row>33458</th><td>1</td><td>0</td></tr>\n",
       "\t<tr><th scope=row>22364</th><td>0</td><td>0</td></tr>\n",
       "\t<tr><th scope=row>31374</th><td>1</td><td>0</td></tr>\n",
       "\t<tr><th scope=row>6037</th><td>1</td><td>0</td></tr>\n",
       "\t<tr><th scope=row>34411</th><td>0</td><td>0</td></tr>\n",
       "\t<tr><th scope=row>17001</th><td>0</td><td>0</td></tr>\n",
       "</tbody>\n",
       "</table>\n"
      ],
      "text/latex": [
       "A data.frame: 6 × 2\n",
       "\\begin{tabular}{r|ll}\n",
       "  & Smoker & HeartDiseaseorAttack\\\\\n",
       "  & <dbl> & <dbl>\\\\\n",
       "\\hline\n",
       "\t33458 & 1 & 0\\\\\n",
       "\t22364 & 0 & 0\\\\\n",
       "\t31374 & 1 & 0\\\\\n",
       "\t6037 & 1 & 0\\\\\n",
       "\t34411 & 0 & 0\\\\\n",
       "\t17001 & 0 & 0\\\\\n",
       "\\end{tabular}\n"
      ],
      "text/markdown": [
       "\n",
       "A data.frame: 6 × 2\n",
       "\n",
       "| <!--/--> | Smoker &lt;dbl&gt; | HeartDiseaseorAttack &lt;dbl&gt; |\n",
       "|---|---|---|\n",
       "| 33458 | 1 | 0 |\n",
       "| 22364 | 0 | 0 |\n",
       "| 31374 | 1 | 0 |\n",
       "| 6037 | 1 | 0 |\n",
       "| 34411 | 0 | 0 |\n",
       "| 17001 | 0 | 0 |\n",
       "\n"
      ],
      "text/plain": [
       "      Smoker HeartDiseaseorAttack\n",
       "33458 1      0                   \n",
       "22364 0      0                   \n",
       "31374 1      0                   \n",
       "6037  1      0                   \n",
       "34411 0      0                   \n",
       "17001 0      0                   "
      ]
     },
     "metadata": {},
     "output_type": "display_data"
    }
   ],
   "source": [
    "head(STR.sample)"
   ]
  },
  {
   "cell_type": "code",
   "execution_count": 50,
   "id": "ef30d517-c462-48c4-b16e-f773e15af861",
   "metadata": {
    "tags": []
   },
   "outputs": [
    {
     "data": {
      "text/html": [
       "<style>\n",
       ".list-inline {list-style: none; margin:0; padding: 0}\n",
       ".list-inline>li {display: inline-block}\n",
       ".list-inline>li:not(:last-child)::after {content: \"\\00b7\"; padding: 0 .5ex}\n",
       "</style>\n",
       "<ol class=list-inline><li>0.574661983354863</li><li>0.0417668744663211</li></ol>\n"
      ],
      "text/latex": [
       "\\begin{enumerate*}\n",
       "\\item 0.574661983354863\n",
       "\\item 0.0417668744663211\n",
       "\\end{enumerate*}\n"
      ],
      "text/markdown": [
       "1. 0.574661983354863\n",
       "2. 0.0417668744663211\n",
       "\n",
       "\n"
      ],
      "text/plain": [
       "[1] 0.57466198 0.04176687"
      ]
     },
     "metadata": {},
     "output_type": "display_data"
    }
   ],
   "source": [
    "# Estimate the population mean using STR with sample size 50\n",
    "\n",
    "# Calculate sample means and variances within strata\n",
    "ybar.h <- tapply(STR.sample$Smoker, STR.sample$HeartDiseaseorAttack, mean)\n",
    "var.h <- tapply(STR.sample$Smoker, STR.sample$HeartDiseaseorAttack, var)\n",
    "# Calculate the standard error within strata\n",
    "se.h <- sqrt((1 - n.h / N) * var.h / n.h)\n",
    "\n",
    "# Combine the strata means and standard errors\n",
    "ybar.str <- sum(N.h_HighBP / N * ybar.h)\n",
    "se.str <- sqrt(sum((N.h_HighBP / N)^2 * se.h^2))\n",
    "\n",
    "c(ybar.str, se.str)\n"
   ]
  },
  {
   "cell_type": "markdown",
   "id": "065370b9-5962-4d07-875e-2226d948ae5b",
   "metadata": {},
   "source": [
    "### Step 7 get the 95% CI"
   ]
  },
  {
   "cell_type": "code",
   "execution_count": 51,
   "id": "b528c0c4-bd56-4826-98dc-b6c0e85565c7",
   "metadata": {
    "tags": []
   },
   "outputs": [
    {
     "data": {
      "text/html": [
       "<style>\n",
       ".list-inline {list-style: none; margin:0; padding: 0}\n",
       ".list-inline>li {display: inline-block}\n",
       ".list-inline>li:not(:last-child)::after {content: \"\\00b7\"; padding: 0 .5ex}\n",
       "</style>\n",
       "<ol class=list-inline><li>0.492800413654069</li><li>0.656523553055658</li></ol>\n"
      ],
      "text/latex": [
       "\\begin{enumerate*}\n",
       "\\item 0.492800413654069\n",
       "\\item 0.656523553055658\n",
       "\\end{enumerate*}\n"
      ],
      "text/markdown": [
       "1. 0.492800413654069\n",
       "2. 0.656523553055658\n",
       "\n",
       "\n"
      ],
      "text/plain": [
       "[1] 0.4928004 0.6565236"
      ]
     },
     "metadata": {},
     "output_type": "display_data"
    }
   ],
   "source": [
    "# Calculate the 95% confidence interval using the z-score\n",
    "z_score <- qnorm(0.975)  # 0.975 corresponds to (1 - alpha / 2) for a two-tailed test\n",
    "margin_of_error <- z_score * se.str\n",
    "\n",
    "lower_bound <- ybar.str - margin_of_error\n",
    "upper_bound <- ybar.str + margin_of_error\n",
    "\n",
    "c(lower_bound, upper_bound)\n"
   ]
  },
  {
   "cell_type": "code",
   "execution_count": null,
   "id": "a88fe943-adec-4f7e-8295-f2aef59467ff",
   "metadata": {},
   "outputs": [],
   "source": []
  },
  {
   "cell_type": "code",
   "execution_count": null,
   "id": "7f125118-e294-43ef-8633-b734e24f83cc",
   "metadata": {},
   "outputs": [],
   "source": []
  }
 ],
 "metadata": {
  "kernelspec": {
   "display_name": "R",
   "language": "R",
   "name": "ir"
  },
  "language_info": {
   "codemirror_mode": "r",
   "file_extension": ".r",
   "mimetype": "text/x-r-source",
   "name": "R",
   "pygments_lexer": "r",
   "version": "4.2.2"
  }
 },
 "nbformat": 4,
 "nbformat_minor": 5
}
